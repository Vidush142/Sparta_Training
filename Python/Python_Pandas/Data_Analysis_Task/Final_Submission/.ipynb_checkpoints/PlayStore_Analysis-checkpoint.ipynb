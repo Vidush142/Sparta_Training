{
 "cells": [
  {
   "cell_type": "markdown",
   "id": "60527d64-7196-41b0-aeea-fff2b4448358",
   "metadata": {},
   "source": [
    "# Play Store Analysis"
   ]
  },
  {
   "cell_type": "markdown",
   "id": "d81279b0-059a-4690-a034-dd01116b4473",
   "metadata": {},
   "source": [
    "# Table of Contents\n",
    "1. [Introduction](#introduction)\n",
    "2. [Data Cleaning](#data-cleaning)\n",
    "   - [Cleaning the playstore dataset](#cleaning-the-playstore-dataset)\n",
    "   - [Cleaning playstore_user_reviews dataset](#cleaning-playstore_user_reviews-dataset)\n",
    "   - [Merging data](#merging-data)\n",
    "     - [Additional processing on dataset](#additional-processing-on-dataset)\n",
    "3. [Visualisations](#visualisations)\n",
    "   - [How does sentiment affect rating?](#how-does-sentiment-affect-rating)\n",
    "   - [How does rating affect number of installs?](#how-does-rating-affect-number-of-installs)\n",
    "   - [Which category would provide most successful results?](#which-category-would-provide-most-successful-results)\n",
    "     - [Which broad category has better sentiment polarity?](#which-broad-category-has-better-sentiment-polarity)\n",
    "     - [Which broad category has highest average rating?](#which-broad-category-has-highest-average-rating)\n",
    "     - [Which broad category has highest number of installs on average?](#which-broad-category-has-highest-number-of-installs-on-average)\n",
    "     - [Which category has highest sentiment polarity?](#which-category-has-highest-sentiment-polarity)\n",
    "     - [Which category has highest average rating?](#which-category-has-highest-average-rating)\n",
    "     - [Which category has highest number of installs on average?](#which-category-has-highest-number-of-installs-on-average)\n",
    "4. [Summary of Insights](#summary-of-insights)"
   ]
  },
  {
   "cell_type": "markdown",
   "id": "d7420a12-09a8-41e2-a24d-c359b2773aa9",
   "metadata": {},
   "source": [
    "## Introduction"
   ]
  },
  {
   "cell_type": "markdown",
   "id": "24a0e3bc-9a68-4231-ac85-f648b1a9921d",
   "metadata": {},
   "source": [
    "Understanding user engagement through app installation trends is crucial for developers, marketers, and stakeholders aiming to optimize app performance. This report analyzes a dataset of Google Play Store applications, focusing on how user sentiments affects app ratings and install count. This report also looks at factors that affect user sentiment and provides insights on what factors must be considered when developing a new app in order to maximise user engagement. Using the visualisations, a prediction on which type of application should be developed by a company looking to develop a new Android application will also be made. This prediction can be made by answering the following questions:\n",
    " - How does sentiment affect rating?\n",
    " - Gow does rating affect number of installs?\n",
    " - Which category would provide most successful results?"
   ]
  },
  {
   "cell_type": "markdown",
   "id": "340ce348-7246-4dd0-9f73-0148a1361c4e",
   "metadata": {},
   "source": [
    "## Data Cleaning"
   ]
  },
  {
   "cell_type": "markdown",
   "id": "0df25249-1d27-4691-b04e-1722485860da",
   "metadata": {},
   "source": [
    "Raw data often contains inconsistencies, missing values, and formatting issues that can impact the accuracy of analysis. This section outlines the data cleaning process applied to the Google Play Store datasets to ensure reliability and consistency in the findings."
   ]
  },
  {
   "cell_type": "code",
   "execution_count": 72,
   "id": "a11283be-bb87-4550-bf48-65a61b217fed",
   "metadata": {},
   "outputs": [],
   "source": [
    "import pandas as pd\n",
    "import seaborn as sb\n",
    "\n",
    "play_store_df = pd.read_csv('googleplaystore.csv')\n",
    "play_store_reviews_df = pd.read_csv('googleplaystore_user_reviews.csv')"
   ]
  },
  {
   "cell_type": "markdown",
   "id": "4b352a7c-02b0-45d5-b96f-9132f9e8a333",
   "metadata": {},
   "source": [
    "### Cleaning the playstore dataset"
   ]
  },
  {
   "cell_type": "markdown",
   "id": "6c2ac592-df27-4fc9-870d-63b44bac4ec4",
   "metadata": {},
   "source": [
    "To clean this dataset, several checks were carried out. This includes:\n",
    " - Checking for NaN values\n",
    " - Checking for Duplicates\n",
    " - Check data type of each columns of the dataset"
   ]
  },
  {
   "cell_type": "code",
   "execution_count": 73,
   "id": "978b5226-ae79-457d-a020-8edd5858c501",
   "metadata": {},
   "outputs": [
    {
     "data": {
      "text/plain": [
       "App                  0\n",
       "Category             0\n",
       "Rating            1474\n",
       "Reviews              0\n",
       "Size                 0\n",
       "Installs             0\n",
       "Type                 1\n",
       "Price                0\n",
       "Content Rating       1\n",
       "Genres               0\n",
       "Last Updated         0\n",
       "Current Ver          8\n",
       "Android Ver          3\n",
       "dtype: int64"
      ]
     },
     "execution_count": 73,
     "metadata": {},
     "output_type": "execute_result"
    }
   ],
   "source": [
    "play_store_df.isnull().sum()"
   ]
  },
  {
   "cell_type": "code",
   "execution_count": 74,
   "id": "ce95c631-08bc-4297-8fea-963a95042e3d",
   "metadata": {},
   "outputs": [
    {
     "data": {
      "text/plain": [
       "np.int64(483)"
      ]
     },
     "execution_count": 74,
     "metadata": {},
     "output_type": "execute_result"
    }
   ],
   "source": [
    "play_store_df.duplicated().sum()"
   ]
  },
  {
   "cell_type": "markdown",
   "id": "571714e5-d3e9-4450-8b7b-9e1d136db0d0",
   "metadata": {},
   "source": [
    "Above checks show that the data set contains duplicates and missong values. The following measures were takes out to handle these issues:\n",
    " - Duplicate values were removed from the table\n",
    " - NaN values in the 'Current Ver', 'Android Ver' and 'Type' columns were removed. These columns have very less nummber of missing values and removing them wouldn't affect the visualisation. Therefore these values were remove rather than being filled\n",
    " - Unllike the above mentioned columns, 'Rating' had higher percentage of missing values and removing these values will remove a notable percent of data. Hence these values were filled."
   ]
  },
  {
   "cell_type": "code",
   "execution_count": 75,
   "id": "68662b46-41e0-42be-98ce-d899dcbad9b1",
   "metadata": {},
   "outputs": [],
   "source": [
    "play_store_df.dropna(subset=['Current Ver', 'Android Ver', 'Type'], inplace=True)"
   ]
  },
  {
   "cell_type": "code",
   "execution_count": 77,
   "id": "c107f97b-0d1e-4c67-bba2-7f7befce5d87",
   "metadata": {},
   "outputs": [],
   "source": [
    "play_store_df.drop_duplicates(inplace=True)"
   ]
  },
  {
   "cell_type": "markdown",
   "id": "dc429145-1a13-4707-a968-b74e54446e66",
   "metadata": {},
   "source": [
    "The below line of code computes the mean rating for each category and fills the NaN values in those categories with the calculated mean for that specific category."
   ]
  },
  {
   "cell_type": "code",
   "execution_count": 78,
   "id": "74b69a16-d198-4d41-aa69-43cf350cce5e",
   "metadata": {},
   "outputs": [],
   "source": [
    "play_store_df['Rating'] = play_store_df.groupby('Category')['Rating'].transform(lambda x: x.fillna(x.mean()))"
   ]
  },
  {
   "cell_type": "markdown",
   "id": "9e663074-6ac1-4775-ad6d-bb2ac6078666",
   "metadata": {},
   "source": [
    "From performing the data type check, it can be seen that except for the 'Rating' columns, all other columns are of dtype 'object'. To get accurate visualisations, certain columns such as 'Price' and 'Reviews' need to be numeric type. "
   ]
  },
  {
   "cell_type": "code",
   "execution_count": 79,
   "id": "8b6bf02f-b042-45fb-bb45-3f45778a68bc",
   "metadata": {},
   "outputs": [
    {
     "data": {
      "text/plain": [
       "App                object\n",
       "Category           object\n",
       "Rating            float64\n",
       "Reviews            object\n",
       "Size               object\n",
       "Installs           object\n",
       "Type               object\n",
       "Price              object\n",
       "Content Rating     object\n",
       "Genres             object\n",
       "Last Updated       object\n",
       "Current Ver        object\n",
       "Android Ver        object\n",
       "dtype: object"
      ]
     },
     "execution_count": 79,
     "metadata": {},
     "output_type": "execute_result"
    }
   ],
   "source": [
    "play_store_df.dtypes"
   ]
  },
  {
   "cell_type": "code",
   "execution_count": 80,
   "id": "7f255a33-77ae-422f-a170-0d5f7b7f16b8",
   "metadata": {},
   "outputs": [],
   "source": [
    "play_store_df['Reviews'] = play_store_df['Reviews'].astype(int) "
   ]
  },
  {
   "cell_type": "code",
   "execution_count": 81,
   "id": "ae0d7861-cb1b-418b-aa00-867fd47048b9",
   "metadata": {},
   "outputs": [],
   "source": [
    "play_store_df['Rating'] = play_store_df['Rating'].round(1)"
   ]
  },
  {
   "cell_type": "markdown",
   "id": "d3bd532e-cabb-4916-a658-3eda209ceacd",
   "metadata": {},
   "source": [
    "Columns 'Current Ver' and 'Android Ver' are being dropped as they are not relavent to answer the questions this analysis report intends to answer."
   ]
  },
  {
   "cell_type": "code",
   "execution_count": 82,
   "id": "4ef81bfe-dbf3-46bf-8091-afef0a5e0f55",
   "metadata": {},
   "outputs": [],
   "source": [
    "play_store_df.drop(columns=['Current Ver', 'Android Ver'], inplace=True)"
   ]
  },
  {
   "cell_type": "markdown",
   "id": "8b6424b1-1e06-4485-89be-ac136231e071",
   "metadata": {},
   "source": [
    "Price column contains string values with '$' sign in front of the price. This character is being removed in order to convert price column to numeric values."
   ]
  },
  {
   "cell_type": "code",
   "execution_count": 83,
   "id": "e58eb582-c318-40ba-99d7-a6555ce74c16",
   "metadata": {},
   "outputs": [],
   "source": [
    "play_store_df['Price'] = play_store_df['Price'].str.replace('$', '')\n",
    "play_store_df['Price'] = play_store_df['Price'].astype(float) "
   ]
  },
  {
   "cell_type": "markdown",
   "id": "aba0fb18-35ad-4e9a-bb8f-72640506bfb1",
   "metadata": {},
   "source": [
    "Column 'Install' contains values that show approximate range of downloads e.g. 100+, 10,000+ etc. For this analysis report, the '+' is going to be removed and the installs are going to be considered as single values instead of a range. For example: 1000+ installs will be considered as 1000 installs."
   ]
  },
  {
   "cell_type": "code",
   "execution_count": 84,
   "id": "17420453-e4da-413d-ab47-679e90a6bd74",
   "metadata": {},
   "outputs": [],
   "source": [
    "play_store_df['Installs'] = play_store_df['Installs'].str.replace(',', '')\n",
    "play_store_df['Installs'] = play_store_df['Installs'].str.replace('+', '')\n",
    "play_store_df['Installs'] = play_store_df['Installs'].astype(float)"
   ]
  },
  {
   "cell_type": "code",
   "execution_count": 85,
   "id": "dd2609a5-c09e-41d2-b069-53e704425500",
   "metadata": {},
   "outputs": [],
   "source": [
    "play_store_df['Installs'] = play_store_df['Installs'].astype(int)"
   ]
  },
  {
   "cell_type": "code",
   "execution_count": 86,
   "id": "7b850970-9ec0-473f-aad4-f2f4d3110893",
   "metadata": {},
   "outputs": [
    {
     "data": {
      "text/plain": [
       "App                object\n",
       "Category           object\n",
       "Rating            float64\n",
       "Reviews             int64\n",
       "Size               object\n",
       "Installs            int64\n",
       "Type               object\n",
       "Price             float64\n",
       "Content Rating     object\n",
       "Genres             object\n",
       "Last Updated       object\n",
       "dtype: object"
      ]
     },
     "execution_count": 86,
     "metadata": {},
     "output_type": "execute_result"
    }
   ],
   "source": [
    "play_store_df.dtypes"
   ]
  },
  {
   "cell_type": "code",
   "execution_count": 87,
   "id": "6cce9d06-418f-497c-8fcc-5efb2cef32cd",
   "metadata": {},
   "outputs": [
    {
     "data": {
      "text/html": [
       "<div>\n",
       "<style scoped>\n",
       "    .dataframe tbody tr th:only-of-type {\n",
       "        vertical-align: middle;\n",
       "    }\n",
       "\n",
       "    .dataframe tbody tr th {\n",
       "        vertical-align: top;\n",
       "    }\n",
       "\n",
       "    .dataframe thead th {\n",
       "        text-align: right;\n",
       "    }\n",
       "</style>\n",
       "<table border=\"1\" class=\"dataframe\">\n",
       "  <thead>\n",
       "    <tr style=\"text-align: right;\">\n",
       "      <th></th>\n",
       "      <th>App</th>\n",
       "      <th>Category</th>\n",
       "      <th>Rating</th>\n",
       "      <th>Reviews</th>\n",
       "      <th>Size</th>\n",
       "      <th>Installs</th>\n",
       "      <th>Type</th>\n",
       "      <th>Price</th>\n",
       "      <th>Content Rating</th>\n",
       "      <th>Genres</th>\n",
       "      <th>Last Updated</th>\n",
       "    </tr>\n",
       "  </thead>\n",
       "  <tbody>\n",
       "    <tr>\n",
       "      <th>0</th>\n",
       "      <td>Photo Editor &amp; Candy Camera &amp; Grid &amp; ScrapBook</td>\n",
       "      <td>ART_AND_DESIGN</td>\n",
       "      <td>4.1</td>\n",
       "      <td>159</td>\n",
       "      <td>19M</td>\n",
       "      <td>10000</td>\n",
       "      <td>Free</td>\n",
       "      <td>0.0</td>\n",
       "      <td>Everyone</td>\n",
       "      <td>Art &amp; Design</td>\n",
       "      <td>January 7, 2018</td>\n",
       "    </tr>\n",
       "    <tr>\n",
       "      <th>1</th>\n",
       "      <td>Coloring book moana</td>\n",
       "      <td>ART_AND_DESIGN</td>\n",
       "      <td>3.9</td>\n",
       "      <td>967</td>\n",
       "      <td>14M</td>\n",
       "      <td>500000</td>\n",
       "      <td>Free</td>\n",
       "      <td>0.0</td>\n",
       "      <td>Everyone</td>\n",
       "      <td>Art &amp; Design;Pretend Play</td>\n",
       "      <td>January 15, 2018</td>\n",
       "    </tr>\n",
       "    <tr>\n",
       "      <th>2</th>\n",
       "      <td>U Launcher Lite – FREE Live Cool Themes, Hide ...</td>\n",
       "      <td>ART_AND_DESIGN</td>\n",
       "      <td>4.7</td>\n",
       "      <td>87510</td>\n",
       "      <td>8.7M</td>\n",
       "      <td>5000000</td>\n",
       "      <td>Free</td>\n",
       "      <td>0.0</td>\n",
       "      <td>Everyone</td>\n",
       "      <td>Art &amp; Design</td>\n",
       "      <td>August 1, 2018</td>\n",
       "    </tr>\n",
       "    <tr>\n",
       "      <th>3</th>\n",
       "      <td>Sketch - Draw &amp; Paint</td>\n",
       "      <td>ART_AND_DESIGN</td>\n",
       "      <td>4.5</td>\n",
       "      <td>215644</td>\n",
       "      <td>25M</td>\n",
       "      <td>50000000</td>\n",
       "      <td>Free</td>\n",
       "      <td>0.0</td>\n",
       "      <td>Teen</td>\n",
       "      <td>Art &amp; Design</td>\n",
       "      <td>June 8, 2018</td>\n",
       "    </tr>\n",
       "    <tr>\n",
       "      <th>4</th>\n",
       "      <td>Pixel Draw - Number Art Coloring Book</td>\n",
       "      <td>ART_AND_DESIGN</td>\n",
       "      <td>4.3</td>\n",
       "      <td>967</td>\n",
       "      <td>2.8M</td>\n",
       "      <td>100000</td>\n",
       "      <td>Free</td>\n",
       "      <td>0.0</td>\n",
       "      <td>Everyone</td>\n",
       "      <td>Art &amp; Design;Creativity</td>\n",
       "      <td>June 20, 2018</td>\n",
       "    </tr>\n",
       "    <tr>\n",
       "      <th>...</th>\n",
       "      <td>...</td>\n",
       "      <td>...</td>\n",
       "      <td>...</td>\n",
       "      <td>...</td>\n",
       "      <td>...</td>\n",
       "      <td>...</td>\n",
       "      <td>...</td>\n",
       "      <td>...</td>\n",
       "      <td>...</td>\n",
       "      <td>...</td>\n",
       "      <td>...</td>\n",
       "    </tr>\n",
       "    <tr>\n",
       "      <th>10836</th>\n",
       "      <td>Sya9a Maroc - FR</td>\n",
       "      <td>FAMILY</td>\n",
       "      <td>4.5</td>\n",
       "      <td>38</td>\n",
       "      <td>53M</td>\n",
       "      <td>5000</td>\n",
       "      <td>Free</td>\n",
       "      <td>0.0</td>\n",
       "      <td>Everyone</td>\n",
       "      <td>Education</td>\n",
       "      <td>July 25, 2017</td>\n",
       "    </tr>\n",
       "    <tr>\n",
       "      <th>10837</th>\n",
       "      <td>Fr. Mike Schmitz Audio Teachings</td>\n",
       "      <td>FAMILY</td>\n",
       "      <td>5.0</td>\n",
       "      <td>4</td>\n",
       "      <td>3.6M</td>\n",
       "      <td>100</td>\n",
       "      <td>Free</td>\n",
       "      <td>0.0</td>\n",
       "      <td>Everyone</td>\n",
       "      <td>Education</td>\n",
       "      <td>July 6, 2018</td>\n",
       "    </tr>\n",
       "    <tr>\n",
       "      <th>10838</th>\n",
       "      <td>Parkinson Exercices FR</td>\n",
       "      <td>MEDICAL</td>\n",
       "      <td>4.2</td>\n",
       "      <td>3</td>\n",
       "      <td>9.5M</td>\n",
       "      <td>1000</td>\n",
       "      <td>Free</td>\n",
       "      <td>0.0</td>\n",
       "      <td>Everyone</td>\n",
       "      <td>Medical</td>\n",
       "      <td>January 20, 2017</td>\n",
       "    </tr>\n",
       "    <tr>\n",
       "      <th>10839</th>\n",
       "      <td>The SCP Foundation DB fr nn5n</td>\n",
       "      <td>BOOKS_AND_REFERENCE</td>\n",
       "      <td>4.5</td>\n",
       "      <td>114</td>\n",
       "      <td>Varies with device</td>\n",
       "      <td>1000</td>\n",
       "      <td>Free</td>\n",
       "      <td>0.0</td>\n",
       "      <td>Mature 17+</td>\n",
       "      <td>Books &amp; Reference</td>\n",
       "      <td>January 19, 2015</td>\n",
       "    </tr>\n",
       "    <tr>\n",
       "      <th>10840</th>\n",
       "      <td>iHoroscope - 2018 Daily Horoscope &amp; Astrology</td>\n",
       "      <td>LIFESTYLE</td>\n",
       "      <td>4.5</td>\n",
       "      <td>398307</td>\n",
       "      <td>19M</td>\n",
       "      <td>10000000</td>\n",
       "      <td>Free</td>\n",
       "      <td>0.0</td>\n",
       "      <td>Everyone</td>\n",
       "      <td>Lifestyle</td>\n",
       "      <td>July 25, 2018</td>\n",
       "    </tr>\n",
       "  </tbody>\n",
       "</table>\n",
       "<p>10346 rows × 11 columns</p>\n",
       "</div>"
      ],
      "text/plain": [
       "                                                     App             Category  \\\n",
       "0         Photo Editor & Candy Camera & Grid & ScrapBook       ART_AND_DESIGN   \n",
       "1                                    Coloring book moana       ART_AND_DESIGN   \n",
       "2      U Launcher Lite – FREE Live Cool Themes, Hide ...       ART_AND_DESIGN   \n",
       "3                                  Sketch - Draw & Paint       ART_AND_DESIGN   \n",
       "4                  Pixel Draw - Number Art Coloring Book       ART_AND_DESIGN   \n",
       "...                                                  ...                  ...   \n",
       "10836                                   Sya9a Maroc - FR               FAMILY   \n",
       "10837                   Fr. Mike Schmitz Audio Teachings               FAMILY   \n",
       "10838                             Parkinson Exercices FR              MEDICAL   \n",
       "10839                      The SCP Foundation DB fr nn5n  BOOKS_AND_REFERENCE   \n",
       "10840      iHoroscope - 2018 Daily Horoscope & Astrology            LIFESTYLE   \n",
       "\n",
       "       Rating  Reviews                Size  Installs  Type  Price  \\\n",
       "0         4.1      159                 19M     10000  Free    0.0   \n",
       "1         3.9      967                 14M    500000  Free    0.0   \n",
       "2         4.7    87510                8.7M   5000000  Free    0.0   \n",
       "3         4.5   215644                 25M  50000000  Free    0.0   \n",
       "4         4.3      967                2.8M    100000  Free    0.0   \n",
       "...       ...      ...                 ...       ...   ...    ...   \n",
       "10836     4.5       38                 53M      5000  Free    0.0   \n",
       "10837     5.0        4                3.6M       100  Free    0.0   \n",
       "10838     4.2        3                9.5M      1000  Free    0.0   \n",
       "10839     4.5      114  Varies with device      1000  Free    0.0   \n",
       "10840     4.5   398307                 19M  10000000  Free    0.0   \n",
       "\n",
       "      Content Rating                     Genres      Last Updated  \n",
       "0           Everyone               Art & Design   January 7, 2018  \n",
       "1           Everyone  Art & Design;Pretend Play  January 15, 2018  \n",
       "2           Everyone               Art & Design    August 1, 2018  \n",
       "3               Teen               Art & Design      June 8, 2018  \n",
       "4           Everyone    Art & Design;Creativity     June 20, 2018  \n",
       "...              ...                        ...               ...  \n",
       "10836       Everyone                  Education     July 25, 2017  \n",
       "10837       Everyone                  Education      July 6, 2018  \n",
       "10838       Everyone                    Medical  January 20, 2017  \n",
       "10839     Mature 17+          Books & Reference  January 19, 2015  \n",
       "10840       Everyone                  Lifestyle     July 25, 2018  \n",
       "\n",
       "[10346 rows x 11 columns]"
      ]
     },
     "execution_count": 87,
     "metadata": {},
     "output_type": "execute_result"
    }
   ],
   "source": [
    "play_store_df"
   ]
  },
  {
   "cell_type": "markdown",
   "id": "1fd8f931-b268-4db0-9e82-592403162a2f",
   "metadata": {},
   "source": [
    "To summarise the cleaning process of this dataset:\n",
    " - NaN values have been removed or filled\n",
    " - Duplicates have been removed\n",
    " - Datatypes have been changed to help with the visualisations"
   ]
  },
  {
   "cell_type": "markdown",
   "id": "7d70f5e4-ecc7-444d-b0db-02bc818733bf",
   "metadata": {},
   "source": [
    "### Cleaning playstore_user_reviews dataset"
   ]
  },
  {
   "cell_type": "markdown",
   "id": "88f4872f-2871-4a70-8abc-98ba05b9dff3",
   "metadata": {},
   "source": [
    "Similar to previous dataset, to clean this dataset, several checks were carried out. This includes:\n",
    " - Checking for NaN values\n",
    " - Checking for Duplicates\n",
    " - Check data type of each columns of the dataset"
   ]
  },
  {
   "cell_type": "code",
   "execution_count": 88,
   "id": "78d76501-2ba9-4384-b3ac-6b55c3943798",
   "metadata": {},
   "outputs": [
    {
     "data": {
      "text/plain": [
       "np.int64(33616)"
      ]
     },
     "execution_count": 88,
     "metadata": {},
     "output_type": "execute_result"
    }
   ],
   "source": [
    "play_store_reviews_df.duplicated().sum()"
   ]
  },
  {
   "cell_type": "markdown",
   "id": "d692beed-3467-4eec-830c-e46f75ded34b",
   "metadata": {},
   "source": [
    "This dataset contains very small amount of NaN values and hence all the values were removed instead of being filled."
   ]
  },
  {
   "cell_type": "code",
   "execution_count": 89,
   "id": "2bc81789-f02d-4958-a52d-ebc93b1a8442",
   "metadata": {},
   "outputs": [],
   "source": [
    "play_store_reviews_df.drop_duplicates(inplace=True)"
   ]
  },
  {
   "cell_type": "code",
   "execution_count": 90,
   "id": "7597de8a-f7e4-4a07-a5e2-bac466b94720",
   "metadata": {},
   "outputs": [],
   "source": [
    "play_store_reviews_df.dropna(thresh=2, inplace=True)"
   ]
  },
  {
   "cell_type": "code",
   "execution_count": 91,
   "id": "edbc5ebd-b7cc-4be4-be8e-76baf39599ca",
   "metadata": {},
   "outputs": [
    {
     "data": {
      "text/plain": [
       "App                       0\n",
       "Translated_Review         5\n",
       "Sentiment                 0\n",
       "Sentiment_Polarity        0\n",
       "Sentiment_Subjectivity    0\n",
       "dtype: int64"
      ]
     },
     "execution_count": 91,
     "metadata": {},
     "output_type": "execute_result"
    }
   ],
   "source": [
    "play_store_reviews_df.isnull().sum()"
   ]
  },
  {
   "cell_type": "code",
   "execution_count": 92,
   "id": "c1475914-75b3-4223-9749-05351c41ee3f",
   "metadata": {},
   "outputs": [
    {
     "data": {
      "text/plain": [
       "App                        object\n",
       "Translated_Review          object\n",
       "Sentiment                  object\n",
       "Sentiment_Polarity        float64\n",
       "Sentiment_Subjectivity    float64\n",
       "dtype: object"
      ]
     },
     "execution_count": 92,
     "metadata": {},
     "output_type": "execute_result"
    }
   ],
   "source": [
    "play_store_reviews_df.dtypes"
   ]
  },
  {
   "cell_type": "markdown",
   "id": "686ab8ce-8c08-450e-8fa1-55a4897e2cff",
   "metadata": {},
   "source": [
    "As seen above, the data types in the dataset are already accurate and do not need changing."
   ]
  },
  {
   "cell_type": "code",
   "execution_count": 93,
   "id": "0366ca00-a652-413c-9dd1-c702db9b5ae7",
   "metadata": {},
   "outputs": [
    {
     "data": {
      "text/html": [
       "<div>\n",
       "<style scoped>\n",
       "    .dataframe tbody tr th:only-of-type {\n",
       "        vertical-align: middle;\n",
       "    }\n",
       "\n",
       "    .dataframe tbody tr th {\n",
       "        vertical-align: top;\n",
       "    }\n",
       "\n",
       "    .dataframe thead th {\n",
       "        text-align: right;\n",
       "    }\n",
       "</style>\n",
       "<table border=\"1\" class=\"dataframe\">\n",
       "  <thead>\n",
       "    <tr style=\"text-align: right;\">\n",
       "      <th></th>\n",
       "      <th>App</th>\n",
       "      <th>Translated_Review</th>\n",
       "      <th>Sentiment</th>\n",
       "      <th>Sentiment_Polarity</th>\n",
       "      <th>Sentiment_Subjectivity</th>\n",
       "    </tr>\n",
       "  </thead>\n",
       "  <tbody>\n",
       "    <tr>\n",
       "      <th>0</th>\n",
       "      <td>10 Best Foods for You</td>\n",
       "      <td>I like eat delicious food. That's I'm cooking ...</td>\n",
       "      <td>Positive</td>\n",
       "      <td>1.000000</td>\n",
       "      <td>0.533333</td>\n",
       "    </tr>\n",
       "    <tr>\n",
       "      <th>1</th>\n",
       "      <td>10 Best Foods for You</td>\n",
       "      <td>This help eating healthy exercise regular basis</td>\n",
       "      <td>Positive</td>\n",
       "      <td>0.250000</td>\n",
       "      <td>0.288462</td>\n",
       "    </tr>\n",
       "    <tr>\n",
       "      <th>3</th>\n",
       "      <td>10 Best Foods for You</td>\n",
       "      <td>Works great especially going grocery store</td>\n",
       "      <td>Positive</td>\n",
       "      <td>0.400000</td>\n",
       "      <td>0.875000</td>\n",
       "    </tr>\n",
       "    <tr>\n",
       "      <th>4</th>\n",
       "      <td>10 Best Foods for You</td>\n",
       "      <td>Best idea us</td>\n",
       "      <td>Positive</td>\n",
       "      <td>1.000000</td>\n",
       "      <td>0.300000</td>\n",
       "    </tr>\n",
       "    <tr>\n",
       "      <th>5</th>\n",
       "      <td>10 Best Foods for You</td>\n",
       "      <td>Best way</td>\n",
       "      <td>Positive</td>\n",
       "      <td>1.000000</td>\n",
       "      <td>0.300000</td>\n",
       "    </tr>\n",
       "    <tr>\n",
       "      <th>...</th>\n",
       "      <td>...</td>\n",
       "      <td>...</td>\n",
       "      <td>...</td>\n",
       "      <td>...</td>\n",
       "      <td>...</td>\n",
       "    </tr>\n",
       "    <tr>\n",
       "      <th>64222</th>\n",
       "      <td>Housing-Real Estate &amp; Property</td>\n",
       "      <td>Most ads older many agents ..not much owner po...</td>\n",
       "      <td>Positive</td>\n",
       "      <td>0.173333</td>\n",
       "      <td>0.486667</td>\n",
       "    </tr>\n",
       "    <tr>\n",
       "      <th>64223</th>\n",
       "      <td>Housing-Real Estate &amp; Property</td>\n",
       "      <td>If photos posted portal load, fit purpose. I'm...</td>\n",
       "      <td>Positive</td>\n",
       "      <td>0.225000</td>\n",
       "      <td>0.447222</td>\n",
       "    </tr>\n",
       "    <tr>\n",
       "      <th>64226</th>\n",
       "      <td>Housing-Real Estate &amp; Property</td>\n",
       "      <td>Dumb app, I wanted post property rent give opt...</td>\n",
       "      <td>Negative</td>\n",
       "      <td>-0.287500</td>\n",
       "      <td>0.250000</td>\n",
       "    </tr>\n",
       "    <tr>\n",
       "      <th>64227</th>\n",
       "      <td>Housing-Real Estate &amp; Property</td>\n",
       "      <td>I property business got link SMS happy perform...</td>\n",
       "      <td>Positive</td>\n",
       "      <td>0.800000</td>\n",
       "      <td>1.000000</td>\n",
       "    </tr>\n",
       "    <tr>\n",
       "      <th>64230</th>\n",
       "      <td>Housing-Real Estate &amp; Property</td>\n",
       "      <td>Useless app, I searched flats kondapur, Hydera...</td>\n",
       "      <td>Negative</td>\n",
       "      <td>-0.316667</td>\n",
       "      <td>0.400000</td>\n",
       "    </tr>\n",
       "  </tbody>\n",
       "</table>\n",
       "<p>29697 rows × 5 columns</p>\n",
       "</div>"
      ],
      "text/plain": [
       "                                  App  \\\n",
       "0               10 Best Foods for You   \n",
       "1               10 Best Foods for You   \n",
       "3               10 Best Foods for You   \n",
       "4               10 Best Foods for You   \n",
       "5               10 Best Foods for You   \n",
       "...                               ...   \n",
       "64222  Housing-Real Estate & Property   \n",
       "64223  Housing-Real Estate & Property   \n",
       "64226  Housing-Real Estate & Property   \n",
       "64227  Housing-Real Estate & Property   \n",
       "64230  Housing-Real Estate & Property   \n",
       "\n",
       "                                       Translated_Review Sentiment  \\\n",
       "0      I like eat delicious food. That's I'm cooking ...  Positive   \n",
       "1        This help eating healthy exercise regular basis  Positive   \n",
       "3             Works great especially going grocery store  Positive   \n",
       "4                                           Best idea us  Positive   \n",
       "5                                               Best way  Positive   \n",
       "...                                                  ...       ...   \n",
       "64222  Most ads older many agents ..not much owner po...  Positive   \n",
       "64223  If photos posted portal load, fit purpose. I'm...  Positive   \n",
       "64226  Dumb app, I wanted post property rent give opt...  Negative   \n",
       "64227  I property business got link SMS happy perform...  Positive   \n",
       "64230  Useless app, I searched flats kondapur, Hydera...  Negative   \n",
       "\n",
       "       Sentiment_Polarity  Sentiment_Subjectivity  \n",
       "0                1.000000                0.533333  \n",
       "1                0.250000                0.288462  \n",
       "3                0.400000                0.875000  \n",
       "4                1.000000                0.300000  \n",
       "5                1.000000                0.300000  \n",
       "...                   ...                     ...  \n",
       "64222            0.173333                0.486667  \n",
       "64223            0.225000                0.447222  \n",
       "64226           -0.287500                0.250000  \n",
       "64227            0.800000                1.000000  \n",
       "64230           -0.316667                0.400000  \n",
       "\n",
       "[29697 rows x 5 columns]"
      ]
     },
     "execution_count": 93,
     "metadata": {},
     "output_type": "execute_result"
    }
   ],
   "source": [
    "play_store_reviews_df"
   ]
  },
  {
   "cell_type": "markdown",
   "id": "196e2e91-62b8-4518-8e5d-8c388def440d",
   "metadata": {},
   "source": [
    "To summarise the cleaning process of this dataset:\n",
    " - NaN values have been removed \n",
    " - Duplicates have been removed\n",
    " - Datatypes have been checked and didn't need to be changed"
   ]
  },
  {
   "cell_type": "markdown",
   "id": "2012ae60-8218-4321-94a1-9c916a067ed2",
   "metadata": {},
   "source": [
    "### Merging Data"
   ]
  },
  {
   "cell_type": "markdown",
   "id": "43d0aeff-fd13-4be2-9a0f-2943b6e7c246",
   "metadata": {},
   "source": [
    "To help with the visualisations, the two datasets are being merged."
   ]
  },
  {
   "cell_type": "code",
   "execution_count": 94,
   "id": "02acc799-acee-4ca0-bd5d-453193535659",
   "metadata": {},
   "outputs": [],
   "source": [
    "merged_df = pd.merge(play_store_df, play_store_reviews_df, on='App')"
   ]
  },
  {
   "cell_type": "markdown",
   "id": "614794ee-6cd2-4eb8-ac24-1e4f7147e27f",
   "metadata": {},
   "source": [
    "#### Additional processing on dataset"
   ]
  },
  {
   "cell_type": "markdown",
   "id": "57a91547-46a1-4b54-91a2-0521670ebcfa",
   "metadata": {},
   "source": [
    "To help with the visualisations, some additional processing is being done on the dataset. This includes:\n",
    " - Adding a new column called 'Rating_Range' that will categorize ratings into excellent, good, average etc based on the range the values fall in.\n",
    " - Since there are lots of categories of data, a new column called 'Broad_Category' is being added and existing categories are categorized into these broad categories.\n",
    " - To help with visualisations, the values of 'Broad_Category' are being abbreviated."
   ]
  },
  {
   "cell_type": "code",
   "execution_count": 95,
   "id": "e85a7087-622d-488c-911f-8feee9362bda",
   "metadata": {},
   "outputs": [],
   "source": [
    "def rating_range(rating):\n",
    "    if rating < 2.5:\n",
    "        return 'Poor'\n",
    "    elif rating < 3.5:\n",
    "        return 'Average'\n",
    "    elif rating < 4.5:\n",
    "        return 'Good'\n",
    "    else:\n",
    "        return 'Excellent'"
   ]
  },
  {
   "cell_type": "code",
   "execution_count": 96,
   "id": "587f723f-bec3-4034-86c4-db1d40a91595",
   "metadata": {},
   "outputs": [],
   "source": [
    "category_mapping = {\n",
    "    'ART_AND_DESIGN': 'Creative',\n",
    "    'PHOTOGRAPHY': 'Creative',\n",
    "    'VIDEO_PLAYERS': 'Creative',\n",
    "    \n",
    "    'BOOKS_AND_REFERENCE': 'Educational',\n",
    "    'EDUCATION': 'Educational',\n",
    "    'LIBRARIES_AND_DEMO': 'Educational',\n",
    "    \n",
    "    'BUSINESS': 'Productivity',\n",
    "    'PRODUCTIVITY': 'Productivity',\n",
    "    'FINANCE': 'Productivity',\n",
    "    \n",
    "    'AUTO_AND_VEHICLES': 'Utilities',\n",
    "    'HOUSE_AND_HOME': 'Utilities',\n",
    "    'TOOLS': 'Utilities',\n",
    "    'WEATHER': 'Utilities',\n",
    "    \n",
    "    'HEALTH_AND_FITNESS': 'Health & Wellness',\n",
    "    'MEDICAL': 'Health & Wellness',\n",
    "    'PARENTING': 'Health & Wellness',\n",
    "    \n",
    "    'GAME': 'Entertainment',\n",
    "    'ENTERTAINMENT': 'Entertainment',\n",
    "    'SOCIAL': 'Entertainment',\n",
    "    \n",
    "    'NEWS_AND_MAGAZINES': 'Information',\n",
    "    'MAPS_AND_NAVIGATION': 'Information',\n",
    "    'TRAVEL_AND_LOCAL': 'Information',\n",
    "    'EVENTS': 'Information',\n",
    "    \n",
    "    'FOOD_AND_DRINK': 'Lifestyle',\n",
    "    'LIFESTYLE': 'Lifestyle',\n",
    "    'SHOPPING': 'Lifestyle',\n",
    "    'BEAUTY': 'Lifestyle',\n",
    "    'DATING': 'Lifestyle',\n",
    "    'PERSONALIZATION': 'Lifestyle',\n",
    "    \n",
    "    'COMMUNICATION': 'Networking',\n",
    "    'SPORTS': 'Networking',\n",
    "}"
   ]
  },
  {
   "cell_type": "code",
   "execution_count": 97,
   "id": "bbf7b7d6-bbb1-4cb0-9c89-1392a22982c0",
   "metadata": {},
   "outputs": [],
   "source": [
    "broad_category_abbreviations = {\n",
    "    'Creative': 'CRE',\n",
    "    'Educational': 'EDU',\n",
    "    'Productivity': 'PROD',\n",
    "    'Utilities': 'UTIL',\n",
    "    'Health & Wellness': 'HEALTH',\n",
    "    'Entertainment': 'ENT',\n",
    "    'Information': 'INFO',\n",
    "    'Lifestyle': 'LIFE',\n",
    "    'Networking': 'NET',\n",
    "    'Other': 'OTH'\n",
    "}"
   ]
  },
  {
   "cell_type": "code",
   "execution_count": 98,
   "id": "000bb199-7dd8-48fb-b300-0ef8dc52afdc",
   "metadata": {},
   "outputs": [],
   "source": [
    "merged_df['Rating_Range'] = merged_df['Rating'].apply(rating_range)\n",
    "merged_df['Broad_Category'] = merged_df['Category'].map(category_mapping)\n",
    "merged_df['Broad_Category'] = merged_df['Broad_Category'].map(broad_category_abbreviations)"
   ]
  },
  {
   "cell_type": "code",
   "execution_count": 99,
   "id": "b8ac4989-3ce0-41cb-a459-d25be9c7e322",
   "metadata": {},
   "outputs": [
    {
     "data": {
      "text/html": [
       "<div>\n",
       "<style scoped>\n",
       "    .dataframe tbody tr th:only-of-type {\n",
       "        vertical-align: middle;\n",
       "    }\n",
       "\n",
       "    .dataframe tbody tr th {\n",
       "        vertical-align: top;\n",
       "    }\n",
       "\n",
       "    .dataframe thead th {\n",
       "        text-align: right;\n",
       "    }\n",
       "</style>\n",
       "<table border=\"1\" class=\"dataframe\">\n",
       "  <thead>\n",
       "    <tr style=\"text-align: right;\">\n",
       "      <th></th>\n",
       "      <th>App</th>\n",
       "      <th>Category</th>\n",
       "      <th>Rating</th>\n",
       "      <th>Reviews</th>\n",
       "      <th>Size</th>\n",
       "      <th>Installs</th>\n",
       "      <th>Type</th>\n",
       "      <th>Price</th>\n",
       "      <th>Content Rating</th>\n",
       "      <th>Genres</th>\n",
       "      <th>Last Updated</th>\n",
       "      <th>Translated_Review</th>\n",
       "      <th>Sentiment</th>\n",
       "      <th>Sentiment_Polarity</th>\n",
       "      <th>Sentiment_Subjectivity</th>\n",
       "      <th>Rating_Range</th>\n",
       "      <th>Broad_Category</th>\n",
       "    </tr>\n",
       "  </thead>\n",
       "  <tbody>\n",
       "    <tr>\n",
       "      <th>0</th>\n",
       "      <td>Coloring book moana</td>\n",
       "      <td>ART_AND_DESIGN</td>\n",
       "      <td>3.9</td>\n",
       "      <td>967</td>\n",
       "      <td>14M</td>\n",
       "      <td>500000</td>\n",
       "      <td>Free</td>\n",
       "      <td>0.0</td>\n",
       "      <td>Everyone</td>\n",
       "      <td>Art &amp; Design;Pretend Play</td>\n",
       "      <td>January 15, 2018</td>\n",
       "      <td>A kid's excessive ads. The types ads allowed a...</td>\n",
       "      <td>Negative</td>\n",
       "      <td>-0.250000</td>\n",
       "      <td>1.000000</td>\n",
       "      <td>Good</td>\n",
       "      <td>CRE</td>\n",
       "    </tr>\n",
       "    <tr>\n",
       "      <th>1</th>\n",
       "      <td>Coloring book moana</td>\n",
       "      <td>ART_AND_DESIGN</td>\n",
       "      <td>3.9</td>\n",
       "      <td>967</td>\n",
       "      <td>14M</td>\n",
       "      <td>500000</td>\n",
       "      <td>Free</td>\n",
       "      <td>0.0</td>\n",
       "      <td>Everyone</td>\n",
       "      <td>Art &amp; Design;Pretend Play</td>\n",
       "      <td>January 15, 2018</td>\n",
       "      <td>It bad &gt;:(</td>\n",
       "      <td>Negative</td>\n",
       "      <td>-0.725000</td>\n",
       "      <td>0.833333</td>\n",
       "      <td>Good</td>\n",
       "      <td>CRE</td>\n",
       "    </tr>\n",
       "    <tr>\n",
       "      <th>2</th>\n",
       "      <td>Coloring book moana</td>\n",
       "      <td>ART_AND_DESIGN</td>\n",
       "      <td>3.9</td>\n",
       "      <td>967</td>\n",
       "      <td>14M</td>\n",
       "      <td>500000</td>\n",
       "      <td>Free</td>\n",
       "      <td>0.0</td>\n",
       "      <td>Everyone</td>\n",
       "      <td>Art &amp; Design;Pretend Play</td>\n",
       "      <td>January 15, 2018</td>\n",
       "      <td>like</td>\n",
       "      <td>Neutral</td>\n",
       "      <td>0.000000</td>\n",
       "      <td>0.000000</td>\n",
       "      <td>Good</td>\n",
       "      <td>CRE</td>\n",
       "    </tr>\n",
       "    <tr>\n",
       "      <th>3</th>\n",
       "      <td>Coloring book moana</td>\n",
       "      <td>ART_AND_DESIGN</td>\n",
       "      <td>3.9</td>\n",
       "      <td>967</td>\n",
       "      <td>14M</td>\n",
       "      <td>500000</td>\n",
       "      <td>Free</td>\n",
       "      <td>0.0</td>\n",
       "      <td>Everyone</td>\n",
       "      <td>Art &amp; Design;Pretend Play</td>\n",
       "      <td>January 15, 2018</td>\n",
       "      <td>I love colors inspyering</td>\n",
       "      <td>Positive</td>\n",
       "      <td>0.500000</td>\n",
       "      <td>0.600000</td>\n",
       "      <td>Good</td>\n",
       "      <td>CRE</td>\n",
       "    </tr>\n",
       "    <tr>\n",
       "      <th>4</th>\n",
       "      <td>Coloring book moana</td>\n",
       "      <td>ART_AND_DESIGN</td>\n",
       "      <td>3.9</td>\n",
       "      <td>967</td>\n",
       "      <td>14M</td>\n",
       "      <td>500000</td>\n",
       "      <td>Free</td>\n",
       "      <td>0.0</td>\n",
       "      <td>Everyone</td>\n",
       "      <td>Art &amp; Design;Pretend Play</td>\n",
       "      <td>January 15, 2018</td>\n",
       "      <td>I hate</td>\n",
       "      <td>Negative</td>\n",
       "      <td>-0.800000</td>\n",
       "      <td>0.900000</td>\n",
       "      <td>Good</td>\n",
       "      <td>CRE</td>\n",
       "    </tr>\n",
       "    <tr>\n",
       "      <th>...</th>\n",
       "      <td>...</td>\n",
       "      <td>...</td>\n",
       "      <td>...</td>\n",
       "      <td>...</td>\n",
       "      <td>...</td>\n",
       "      <td>...</td>\n",
       "      <td>...</td>\n",
       "      <td>...</td>\n",
       "      <td>...</td>\n",
       "      <td>...</td>\n",
       "      <td>...</td>\n",
       "      <td>...</td>\n",
       "      <td>...</td>\n",
       "      <td>...</td>\n",
       "      <td>...</td>\n",
       "      <td>...</td>\n",
       "      <td>...</td>\n",
       "    </tr>\n",
       "    <tr>\n",
       "      <th>40417</th>\n",
       "      <td>Firefox Focus: The privacy browser</td>\n",
       "      <td>COMMUNICATION</td>\n",
       "      <td>4.4</td>\n",
       "      <td>36981</td>\n",
       "      <td>4.0M</td>\n",
       "      <td>1000000</td>\n",
       "      <td>Free</td>\n",
       "      <td>0.0</td>\n",
       "      <td>Everyone</td>\n",
       "      <td>Communication</td>\n",
       "      <td>July 6, 2018</td>\n",
       "      <td>Hoped found new go-to; LOVE Firefox PC. Aside ...</td>\n",
       "      <td>Positive</td>\n",
       "      <td>0.345455</td>\n",
       "      <td>0.484848</td>\n",
       "      <td>Good</td>\n",
       "      <td>NET</td>\n",
       "    </tr>\n",
       "    <tr>\n",
       "      <th>40418</th>\n",
       "      <td>Firefox Focus: The privacy browser</td>\n",
       "      <td>COMMUNICATION</td>\n",
       "      <td>4.4</td>\n",
       "      <td>36981</td>\n",
       "      <td>4.0M</td>\n",
       "      <td>1000000</td>\n",
       "      <td>Free</td>\n",
       "      <td>0.0</td>\n",
       "      <td>Everyone</td>\n",
       "      <td>Communication</td>\n",
       "      <td>July 6, 2018</td>\n",
       "      <td>Moment I turned YouTube video I got ad. That's...</td>\n",
       "      <td>Neutral</td>\n",
       "      <td>0.000000</td>\n",
       "      <td>0.000000</td>\n",
       "      <td>Good</td>\n",
       "      <td>NET</td>\n",
       "    </tr>\n",
       "    <tr>\n",
       "      <th>40419</th>\n",
       "      <td>Firefox Focus: The privacy browser</td>\n",
       "      <td>COMMUNICATION</td>\n",
       "      <td>4.4</td>\n",
       "      <td>36981</td>\n",
       "      <td>4.0M</td>\n",
       "      <td>1000000</td>\n",
       "      <td>Free</td>\n",
       "      <td>0.0</td>\n",
       "      <td>Everyone</td>\n",
       "      <td>Communication</td>\n",
       "      <td>July 6, 2018</td>\n",
       "      <td>Fast, lightweight secure. What else need? :) T...</td>\n",
       "      <td>Positive</td>\n",
       "      <td>0.493750</td>\n",
       "      <td>0.700000</td>\n",
       "      <td>Good</td>\n",
       "      <td>NET</td>\n",
       "    </tr>\n",
       "    <tr>\n",
       "      <th>40420</th>\n",
       "      <td>Firefox Focus: The privacy browser</td>\n",
       "      <td>COMMUNICATION</td>\n",
       "      <td>4.4</td>\n",
       "      <td>36981</td>\n",
       "      <td>4.0M</td>\n",
       "      <td>1000000</td>\n",
       "      <td>Free</td>\n",
       "      <td>0.0</td>\n",
       "      <td>Everyone</td>\n",
       "      <td>Communication</td>\n",
       "      <td>July 6, 2018</td>\n",
       "      <td>Best browser... If privacy concern please brow...</td>\n",
       "      <td>Positive</td>\n",
       "      <td>0.535119</td>\n",
       "      <td>0.714286</td>\n",
       "      <td>Good</td>\n",
       "      <td>NET</td>\n",
       "    </tr>\n",
       "    <tr>\n",
       "      <th>40421</th>\n",
       "      <td>Firefox Focus: The privacy browser</td>\n",
       "      <td>COMMUNICATION</td>\n",
       "      <td>4.4</td>\n",
       "      <td>36981</td>\n",
       "      <td>4.0M</td>\n",
       "      <td>1000000</td>\n",
       "      <td>Free</td>\n",
       "      <td>0.0</td>\n",
       "      <td>Everyone</td>\n",
       "      <td>Communication</td>\n",
       "      <td>July 6, 2018</td>\n",
       "      <td>The thing I found missing simple bookmark draw...</td>\n",
       "      <td>Positive</td>\n",
       "      <td>0.225000</td>\n",
       "      <td>0.426786</td>\n",
       "      <td>Good</td>\n",
       "      <td>NET</td>\n",
       "    </tr>\n",
       "  </tbody>\n",
       "</table>\n",
       "<p>40422 rows × 17 columns</p>\n",
       "</div>"
      ],
      "text/plain": [
       "                                      App        Category  Rating  Reviews  \\\n",
       "0                     Coloring book moana  ART_AND_DESIGN     3.9      967   \n",
       "1                     Coloring book moana  ART_AND_DESIGN     3.9      967   \n",
       "2                     Coloring book moana  ART_AND_DESIGN     3.9      967   \n",
       "3                     Coloring book moana  ART_AND_DESIGN     3.9      967   \n",
       "4                     Coloring book moana  ART_AND_DESIGN     3.9      967   \n",
       "...                                   ...             ...     ...      ...   \n",
       "40417  Firefox Focus: The privacy browser   COMMUNICATION     4.4    36981   \n",
       "40418  Firefox Focus: The privacy browser   COMMUNICATION     4.4    36981   \n",
       "40419  Firefox Focus: The privacy browser   COMMUNICATION     4.4    36981   \n",
       "40420  Firefox Focus: The privacy browser   COMMUNICATION     4.4    36981   \n",
       "40421  Firefox Focus: The privacy browser   COMMUNICATION     4.4    36981   \n",
       "\n",
       "       Size  Installs  Type  Price Content Rating                     Genres  \\\n",
       "0       14M    500000  Free    0.0       Everyone  Art & Design;Pretend Play   \n",
       "1       14M    500000  Free    0.0       Everyone  Art & Design;Pretend Play   \n",
       "2       14M    500000  Free    0.0       Everyone  Art & Design;Pretend Play   \n",
       "3       14M    500000  Free    0.0       Everyone  Art & Design;Pretend Play   \n",
       "4       14M    500000  Free    0.0       Everyone  Art & Design;Pretend Play   \n",
       "...     ...       ...   ...    ...            ...                        ...   \n",
       "40417  4.0M   1000000  Free    0.0       Everyone              Communication   \n",
       "40418  4.0M   1000000  Free    0.0       Everyone              Communication   \n",
       "40419  4.0M   1000000  Free    0.0       Everyone              Communication   \n",
       "40420  4.0M   1000000  Free    0.0       Everyone              Communication   \n",
       "40421  4.0M   1000000  Free    0.0       Everyone              Communication   \n",
       "\n",
       "           Last Updated                                  Translated_Review  \\\n",
       "0      January 15, 2018  A kid's excessive ads. The types ads allowed a...   \n",
       "1      January 15, 2018                                         It bad >:(   \n",
       "2      January 15, 2018                                               like   \n",
       "3      January 15, 2018                           I love colors inspyering   \n",
       "4      January 15, 2018                                             I hate   \n",
       "...                 ...                                                ...   \n",
       "40417      July 6, 2018  Hoped found new go-to; LOVE Firefox PC. Aside ...   \n",
       "40418      July 6, 2018  Moment I turned YouTube video I got ad. That's...   \n",
       "40419      July 6, 2018  Fast, lightweight secure. What else need? :) T...   \n",
       "40420      July 6, 2018  Best browser... If privacy concern please brow...   \n",
       "40421      July 6, 2018  The thing I found missing simple bookmark draw...   \n",
       "\n",
       "      Sentiment  Sentiment_Polarity  Sentiment_Subjectivity Rating_Range  \\\n",
       "0      Negative           -0.250000                1.000000         Good   \n",
       "1      Negative           -0.725000                0.833333         Good   \n",
       "2       Neutral            0.000000                0.000000         Good   \n",
       "3      Positive            0.500000                0.600000         Good   \n",
       "4      Negative           -0.800000                0.900000         Good   \n",
       "...         ...                 ...                     ...          ...   \n",
       "40417  Positive            0.345455                0.484848         Good   \n",
       "40418   Neutral            0.000000                0.000000         Good   \n",
       "40419  Positive            0.493750                0.700000         Good   \n",
       "40420  Positive            0.535119                0.714286         Good   \n",
       "40421  Positive            0.225000                0.426786         Good   \n",
       "\n",
       "      Broad_Category  \n",
       "0                CRE  \n",
       "1                CRE  \n",
       "2                CRE  \n",
       "3                CRE  \n",
       "4                CRE  \n",
       "...              ...  \n",
       "40417            NET  \n",
       "40418            NET  \n",
       "40419            NET  \n",
       "40420            NET  \n",
       "40421            NET  \n",
       "\n",
       "[40422 rows x 17 columns]"
      ]
     },
     "execution_count": 99,
     "metadata": {},
     "output_type": "execute_result"
    }
   ],
   "source": [
    "merged_df"
   ]
  },
  {
   "cell_type": "markdown",
   "id": "c1b6a693-ecf1-4ac6-95ab-c75ad6358295",
   "metadata": {},
   "source": [
    "## Visualisations"
   ]
  },
  {
   "cell_type": "markdown",
   "id": "dc31218d-f833-473b-8fd4-c5e76103c6c5",
   "metadata": {},
   "source": [
    "This section shows all the visualisations and insiights that can be drawn from these visualisations. These insights will then be used to answer the questions and make the prediction."
   ]
  },
  {
   "cell_type": "markdown",
   "id": "75f52f1f-f753-4c26-8c8c-81baf0b85147",
   "metadata": {},
   "source": [
    "### How does sentiment affect rating?"
   ]
  },
  {
   "cell_type": "markdown",
   "id": "122872cf-bc98-4301-8599-1d6ff491874b",
   "metadata": {},
   "source": [
    "The below heatmap shows how sentiment affects rating by displaying the average rating for each snetiment. It can be derived from this map than applications that have positive user sentiments tends to have higher rating."
   ]
  },
  {
   "cell_type": "code",
   "execution_count": 100,
   "id": "2f93b281-5c73-40b4-96ba-abe80d571737",
   "metadata": {},
   "outputs": [
    {
     "data": {
      "text/plain": [
       "<Axes: ylabel='Sentiment'>"
      ]
     },
     "execution_count": 100,
     "metadata": {},
     "output_type": "execute_result"
    },
    {
     "data": {
      "image/png": "[encoded data removed]",
      "text/plain": [
       "<Figure size 640x480 with 2 Axes>"
      ]
     },
     "metadata": {},
     "output_type": "display_data"
    }
   ],
   "source": [
    "pivot_table = merged_df.pivot_table(index='Sentiment', values='Rating')\n",
    "sb.heatmap(pivot_table,cmap='summer', annot=True, linewidths=0.5)"
   ]
  },
  {
   "cell_type": "markdown",
   "id": "4cabe806-d9f1-4be7-943e-71b8036ac40c",
   "metadata": {},
   "source": [
    "### How does rating affect number of installs?"
   ]
  },
  {
   "cell_type": "markdown",
   "id": "d822cbe3-c0c9-4bcf-9f1f-94ecbe0f57af",
   "metadata": {},
   "source": [
    "The below line graph shows average number of installs for each rating range. The graph can be used to analyse how rating affects installs. From this graph it can be seen that apps with higher ratings have higher number of installs. "
   ]
  },
  {
   "cell_type": "code",
   "execution_count": 101,
   "id": "1aa8abff-40c7-43d2-9c48-2b41939c0165",
   "metadata": {},
   "outputs": [
    {
     "data": {
      "text/plain": [
       "<Axes: xlabel='Rating_Range', ylabel='Installs'>"
      ]
     },
     "execution_count": 101,
     "metadata": {},
     "output_type": "execute_result"
    },
    {
     "data": {
      "image/png": "[encoded data removed]",
      "text/plain": [
       "<Figure size 640x480 with 1 Axes>"
      ]
     },
     "metadata": {},
     "output_type": "display_data"
    }
   ],
   "source": [
    "sb.lineplot(data=merged_df, x=\"Rating_Range\", y=\"Installs\")"
   ]
  },
  {
   "cell_type": "markdown",
   "id": "bf77a0f8-27a7-42bf-a2d2-5167f3f15515",
   "metadata": {},
   "source": [
    "### Which category would provide most successfull results?"
   ]
  },
  {
   "cell_type": "markdown",
   "id": "313ea91c-36a0-439b-b7f4-148b8366c3e0",
   "metadata": {},
   "source": [
    "This section answers the question which category would be ideal for a new application development for a higher rate of success."
   ]
  },
  {
   "cell_type": "markdown",
   "id": "6ac976d1-5078-4e48-8093-2acb793d6eb2",
   "metadata": {},
   "source": [
    "#### Which broad category has better sentiment polcarity?"
   ]
  },
  {
   "cell_type": "markdown",
   "id": "4eb87187-61ea-4cd5-a745-949bc4e50352",
   "metadata": {},
   "source": [
    "The below bar graph shows average sentiment polarity by broad category. Based on the visualisation, health apps tends to get more positive sentiment than other broad categories."
   ]
  },
  {
   "cell_type": "code",
   "execution_count": 103,
   "id": "6f49a187-1ef6-4a4b-8ef2-94d378483f9e",
   "metadata": {},
   "outputs": [
    {
     "data": {
      "text/plain": [
       "<Axes: xlabel='Sentiment_Polarity', ylabel='Broad_Category'>"
      ]
     },
     "execution_count": 103,
     "metadata": {},
     "output_type": "execute_result"
    },
    {
     "data": {
      "image/png": "[encoded data removed]",
      "text/plain": [
       "<Figure size 640x480 with 1 Axes>"
      ]
     },
     "metadata": {},
     "output_type": "display_data"
    }
   ],
   "source": [
    "sb.barplot(y='Broad_Category', x='Sentiment_Polarity', data=merged_df, hue='Broad_Category', legend=False, errorbar=None , palette='muted')"
   ]
  },
  {
   "cell_type": "markdown",
   "id": "9d48f012-30ea-49ae-b95b-93382ec51107",
   "metadata": {},
   "source": [
    "#### Which broad category has highest average rating?"
   ]
  },
  {
   "cell_type": "markdown",
   "id": "3f0d1473-fca3-419b-b958-dc7dd21a4895",
   "metadata": {},
   "source": [
    "The below point graph shows average rating by broad category. Entertainment applications have higher average rating compared to other braoad categories."
   ]
  },
  {
   "cell_type": "code",
   "execution_count": 104,
   "id": "14b44090-f497-415e-a076-1c25a684129f",
   "metadata": {},
   "outputs": [
    {
     "data": {
      "text/plain": [
       "<Axes: xlabel='Broad_Category', ylabel='Rating'>"
      ]
     },
     "execution_count": 104,
     "metadata": {},
     "output_type": "execute_result"
    },
    {
     "data": {
      "image/png": "[encoded data removed]",
      "text/plain": [
       "<Figure size 640x480 with 1 Axes>"
      ]
     },
     "metadata": {},
     "output_type": "display_data"
    }
   ],
   "source": [
    "sb.pointplot(data=merged_df,x='Broad_Category', y='Rating', errorbar=None)"
   ]
  },
  {
   "cell_type": "markdown",
   "id": "18943d8c-bbfe-43bf-ac1b-42fab488daa7",
   "metadata": {},
   "source": [
    "#### Which broad category has highest number of installs on average?"
   ]
  },
  {
   "cell_type": "code",
   "execution_count": 105,
   "id": "4780922a-caf2-462c-91fa-f38ac4cf1120",
   "metadata": {},
   "outputs": [
    {
     "data": {
      "text/plain": [
       "<Axes: xlabel='Installs', ylabel='Broad_Category'>"
      ]
     },
     "execution_count": 105,
     "metadata": {},
     "output_type": "execute_result"
    },
    {
     "data": {
      "image/png": "[encoded data removed]",
      "text/plain": [
       "<Figure size 640x480 with 1 Axes>"
      ]
     },
     "metadata": {},
     "output_type": "display_data"
    }
   ],
   "source": [
    "sb.barplot(y='Broad_Category', x='Installs', data=merged_df, hue='Broad_Category', legend=False, errorbar=None, palette=\"Spectral\")"
   ]
  },
  {
   "cell_type": "markdown",
   "id": "479e2a87-8427-4754-93fa-f94f5888d358",
   "metadata": {},
   "source": [
    "The bar graph abvoe visualises number of installs by broad category. Creative applications have higher number of installs, and by a huge difference, compared to other applications. Based on the three graphs above the top categories based on sentiment, rating and number of installs are:\n",
    " - Health: Highest sentiment polarity\n",
    " - Entertainment: Highest average rating\n",
    " - Creative: Highest number of installs\n",
    "\n",
    "While Health and Entertainment have high sentiment polarity and high average rating respoectively, they underperform in the other categories. Whereas, Creative is consistently in the top 5 categories for each of factors. Based on this analysis, it can be derived that developing an app in the creative category would be better for user engagement.<br>\n",
    "Broad categories contain further categories within them. The graphs below does further analysis to see which category within the creative category will be ideal to deevlop an application."
   ]
  },
  {
   "cell_type": "markdown",
   "id": "fcb4720d-0168-4cde-ac9e-df86f04dda12",
   "metadata": {},
   "source": [
    "#### Which category has highest sentiment polarity?"
   ]
  },
  {
   "cell_type": "markdown",
   "id": "03af4458-170a-4ba2-958b-e6a7d56661cf",
   "metadata": {},
   "source": [
    "The below bar graph shows average sentiment polarity by category. Based on the visualisation, Art and Design apps tends to get more positive sentiment followed closely by Photography apps."
   ]
  },
  {
   "cell_type": "code",
   "execution_count": 106,
   "id": "2917500d-bee5-43c3-bd98-0bead3da28f7",
   "metadata": {},
   "outputs": [
    {
     "data": {
      "text/plain": [
       "<Axes: xlabel='Sentiment_Polarity', ylabel='Category'>"
      ]
     },
     "execution_count": 106,
     "metadata": {},
     "output_type": "execute_result"
    },
    {
     "data": {
      "image/png": "[encoded data removed]",
      "text/plain": [
       "<Figure size 640x480 with 1 Axes>"
      ]
     },
     "metadata": {},
     "output_type": "display_data"
    }
   ],
   "source": [
    "creative_df = merged_df[merged_df.Broad_Category == 'CRE']\n",
    "sb.barplot(y='Category', x='Sentiment_Polarity', data=creative_df, errorbar=None, hue='Category', palette=\"BuGn\")"
   ]
  },
  {
   "cell_type": "markdown",
   "id": "2d30135f-61c2-4bad-a3ac-47e56f747e8f",
   "metadata": {},
   "source": [
    "#### Which category has highest average rating?"
   ]
  },
  {
   "cell_type": "markdown",
   "id": "de6c0e1d-70d5-4f2b-b8c2-6912dc7a0716",
   "metadata": {},
   "source": [
    "The below point graph shows average rating by broad category. Photography applications have higher average rating compared to other categories."
   ]
  },
  {
   "cell_type": "code",
   "execution_count": 107,
   "id": "a7deb41f-4f1b-4ee6-8da9-c30732f516c9",
   "metadata": {},
   "outputs": [
    {
     "data": {
      "text/plain": [
       "<Axes: xlabel='Category', ylabel='Rating'>"
      ]
     },
     "execution_count": 107,
     "metadata": {},
     "output_type": "execute_result"
    },
    {
     "data": {
      "image/png": "[encoded data removed]",
      "text/plain": [
       "<Figure size 640x480 with 1 Axes>"
      ]
     },
     "metadata": {},
     "output_type": "display_data"
    }
   ],
   "source": [
    "sb.pointplot(x='Category', y='Rating', data=creative_df, errorbar=None)"
   ]
  },
  {
   "cell_type": "markdown",
   "id": "a8228739-4a2f-4297-925f-fea3aecd3f92",
   "metadata": {},
   "source": [
    "#### Which category has highest number of installs on average?"
   ]
  },
  {
   "cell_type": "code",
   "execution_count": 108,
   "id": "d523f45c-6200-44f5-bda9-a4c70ecbcd59",
   "metadata": {},
   "outputs": [
    {
     "data": {
      "text/plain": [
       "<Axes: xlabel='Category', ylabel='Installs'>"
      ]
     },
     "execution_count": 108,
     "metadata": {},
     "output_type": "execute_result"
    },
    {
     "data": {
      "image/png": "[encoded data removed]",
      "text/plain": [
       "<Figure size 640x480 with 1 Axes>"
      ]
     },
     "metadata": {},
     "output_type": "display_data"
    }
   ],
   "source": [
    "sb.lineplot(x='Category', y='Installs', data=creative_df, errorbar=None)"
   ]
  },
  {
   "cell_type": "markdown",
   "id": "8ffd2d3b-98b2-4671-8e89-2dc64bfa4d72",
   "metadata": {},
   "source": [
    "The above line graph shows average number of installs by broad category. Photography applications have higher average number of installs compared to other categories. \n",
    "While Art and Design have higher sentiment polarity, Photography applications dominates in other aspects. Given that Photography had almost equally high sentiment polarity, it can be derived that idead category to develop an application in would be Photography."
   ]
  },
  {
   "cell_type": "markdown",
   "id": "e3ec9a98-9d54-43be-931c-6ae13a4f5239",
   "metadata": {},
   "source": [
    "## Summary of Insights"
   ]
  },
  {
   "cell_type": "markdown",
   "id": "14e478d2-3f04-4013-983f-3dcdeb357bd7",
   "metadata": {},
   "source": [
    "The following insights can be drawn from this analysis:\n",
    " - Positive apps tend to have higher rating\n",
    " - Higher rated apps are installed more than lower rated ones\n",
    " - Creative applications tend to give consistent success across all metrics.\n",
    " - Within the creative category, photography applications tends to have higher success rate.\n",
    " - If a new application were to be developed, developing a photography app would get more user engagement\n",
    "\n",
    "Further analysis can be done using machine learning algorithms to make more accurate predictions on which category is most ideal. The prediction made by this report are based onthe visualisations produed in this report."
   ]
  },
  {
   "cell_type": "code",
   "execution_count": null,
   "id": "6506d071-6f37-41a3-b7fb-ab1f1a235bf9",
   "metadata": {},
   "outputs": [],
   "source": []
  }
 ],
 "metadata": {
  "kernelspec": {
   "display_name": "Python 3 (ipykernel)",
   "language": "python",
   "name": "python3"
  },
  "language_info": {
   "codemirror_mode": {
    "name": "ipython",
    "version": 3
   },
   "file_extension": ".py",
   "mimetype": "text/x-python",
   "name": "python",
   "nbconvert_exporter": "python",
   "pygments_lexer": "ipython3",
   "version": "3.13.1"
  }
 },
 "nbformat": 4,
 "nbformat_minor": 5
}
