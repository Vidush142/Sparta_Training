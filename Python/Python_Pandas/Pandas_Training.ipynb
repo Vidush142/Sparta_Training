{
 "cells": [
  {
   "cell_type": "markdown",
   "id": "115160f0-ec3f-482a-a9f9-e4d495fa5b27",
   "metadata": {},
   "source": [
    "# Introduction to Pandas\n",
    "\n",
    "Pandas is a high level fata manipulation package which was built on top of Numpy. The key structures within pandas include Series and Dataframes\n"
   ]
  },
  {
   "cell_type": "markdown",
   "id": "44eb1000-98b4-46d3-adc0-ca917f8d11bc",
   "metadata": {},
   "source": [
    "## Series\n",
    "\n",
    "A series is a one-dimensional array with axis labels. A series is a ndarray, thus it is homogeneous and cannot store multiple dtypes."
   ]
  },
  {
   "cell_type": "code",
   "execution_count": 9,
   "id": "7bdd8908-589c-48c9-a93a-b38941acd108",
   "metadata": {},
   "outputs": [],
   "source": [
    "import numpy as np\n",
    "import pandas as pd\n",
    "from pandas import Series, DataFrame"
   ]
  },
  {
   "cell_type": "code",
   "execution_count": 5,
   "id": "14b0f1c6-f64b-4ab8-a9af-4941724f46a2",
   "metadata": {},
   "outputs": [
    {
     "data": {
      "text/plain": [
       "0    10\n",
       "1    20\n",
       "2    30\n",
       "3    40\n",
       "4    50\n",
       "dtype: int64"
      ]
     },
     "execution_count": 5,
     "metadata": {},
     "output_type": "execute_result"
    }
   ],
   "source": [
    "x = pd.Series([10,20,30,40,50])\n",
    "x"
   ]
  },
  {
   "cell_type": "code",
   "execution_count": 6,
   "id": "8189b735-e784-4925-a3a1-34e746fa150a",
   "metadata": {},
   "outputs": [
    {
     "data": {
      "text/plain": [
       "RangeIndex(start=0, stop=5, step=1)"
      ]
     },
     "execution_count": 6,
     "metadata": {},
     "output_type": "execute_result"
    }
   ],
   "source": [
    "x.index"
   ]
  },
  {
   "cell_type": "code",
   "execution_count": 7,
   "id": "09b731c0-9389-4330-b09c-1a99f60bd8f0",
   "metadata": {},
   "outputs": [
    {
     "data": {
      "text/plain": [
       "array([10, 20, 30, 40, 50])"
      ]
     },
     "execution_count": 7,
     "metadata": {},
     "output_type": "execute_result"
    }
   ],
   "source": [
    "x.values"
   ]
  },
  {
   "cell_type": "code",
   "execution_count": 8,
   "id": "3e2069b9-da3d-4e33-984d-f43870dd701d",
   "metadata": {},
   "outputs": [
    {
     "data": {
      "text/plain": [
       "dtype('int64')"
      ]
     },
     "execution_count": 8,
     "metadata": {},
     "output_type": "execute_result"
    }
   ],
   "source": [
    "x.dtype"
   ]
  },
  {
   "cell_type": "code",
   "execution_count": 11,
   "id": "1fc93825-e2d0-491f-8afd-029c46850692",
   "metadata": {},
   "outputs": [],
   "source": [
    "# Creating series with an index\n",
    "\n",
    "data = [450, 650, 870]\n",
    "sales = Series(data, index=[\"Don\", \"Mike\", \"Edwin\"])"
   ]
  },
  {
   "cell_type": "code",
   "execution_count": 12,
   "id": "0ab8177a-0fd3-4db1-830b-ff8b54f1519a",
   "metadata": {},
   "outputs": [
    {
     "data": {
      "text/plain": [
       "Don      450\n",
       "Mike     650\n",
       "Edwin    870\n",
       "dtype: int64"
      ]
     },
     "execution_count": 12,
     "metadata": {},
     "output_type": "execute_result"
    }
   ],
   "source": [
    "sales"
   ]
  },
  {
   "cell_type": "code",
   "execution_count": 13,
   "id": "1253b059-3958-4b71-a823-1013f50c525b",
   "metadata": {},
   "outputs": [
    {
     "data": {
      "text/plain": [
       "pandas.core.series.Series"
      ]
     },
     "execution_count": 13,
     "metadata": {},
     "output_type": "execute_result"
    }
   ],
   "source": [
    "type(sales)"
   ]
  },
  {
   "cell_type": "code",
   "execution_count": 14,
   "id": "64a994ab-0075-43de-a932-b0292365c299",
   "metadata": {},
   "outputs": [
    {
     "data": {
      "text/plain": [
       "Index(['Don', 'Mike', 'Edwin'], dtype='object')"
      ]
     },
     "execution_count": 14,
     "metadata": {},
     "output_type": "execute_result"
    }
   ],
   "source": [
    "sales.index"
   ]
  },
  {
   "cell_type": "markdown",
   "id": "5b7f53f3-252b-424a-b0d1-ddf537101717",
   "metadata": {},
   "source": [
    "## Accessing Values"
   ]
  },
  {
   "cell_type": "code",
   "execution_count": 17,
   "id": "83cbca4a-922e-48f5-98db-17fa6b933351",
   "metadata": {},
   "outputs": [
    {
     "data": {
      "text/plain": [
       "np.int64(450)"
      ]
     },
     "execution_count": 17,
     "metadata": {},
     "output_type": "execute_result"
    }
   ],
   "source": [
    "sales[\"Don\"]"
   ]
  },
  {
   "cell_type": "code",
   "execution_count": 18,
   "id": "740cc384-263b-4c29-aa7c-c419336ed238",
   "metadata": {},
   "outputs": [
    {
     "name": "stderr",
     "output_type": "stream",
     "text": [
      "C:\\Users\\vidus\\AppData\\Local\\Temp\\ipykernel_20412\\1101347017.py:1: FutureWarning: Series.__getitem__ treating keys as positions is deprecated. In a future version, integer keys will always be treated as labels (consistent with DataFrame behavior). To access a value by position, use `ser.iloc[pos]`\n",
      "  sales[0]\n"
     ]
    },
    {
     "data": {
      "text/plain": [
       "np.int64(450)"
      ]
     },
     "execution_count": 18,
     "metadata": {},
     "output_type": "execute_result"
    }
   ],
   "source": [
    "sales[0]"
   ]
  },
  {
   "cell_type": "code",
   "execution_count": 20,
   "id": "0bbe5de3-464d-44ff-80ca-4b54b1beae00",
   "metadata": {},
   "outputs": [
    {
     "data": {
      "text/plain": [
       "np.int64(450)"
      ]
     },
     "execution_count": 20,
     "metadata": {},
     "output_type": "execute_result"
    }
   ],
   "source": [
    "sales.iloc[0]"
   ]
  },
  {
   "cell_type": "markdown",
   "id": "ce4c3479-aedf-4a9f-8b0c-62b99f5a61ca",
   "metadata": {},
   "source": [
    "## Checking for conditions"
   ]
  },
  {
   "cell_type": "code",
   "execution_count": 21,
   "id": "f3ca1436-da9c-4cc4-91c5-872c4bf60711",
   "metadata": {},
   "outputs": [
    {
     "data": {
      "text/plain": [
       "Don      False\n",
       "Mike      True\n",
       "Edwin     True\n",
       "dtype: bool"
      ]
     },
     "execution_count": 21,
     "metadata": {},
     "output_type": "execute_result"
    }
   ],
   "source": [
    "sales > 500"
   ]
  },
  {
   "cell_type": "code",
   "execution_count": 22,
   "id": "cb8e3499-cc9f-491f-965b-c3cea192ff60",
   "metadata": {},
   "outputs": [
    {
     "data": {
      "text/plain": [
       "Mike     650\n",
       "Edwin    870\n",
       "dtype: int64"
      ]
     },
     "execution_count": 22,
     "metadata": {},
     "output_type": "execute_result"
    }
   ],
   "source": [
    "sales[[False, True, True]]"
   ]
  },
  {
   "cell_type": "code",
   "execution_count": 23,
   "id": "f3da185f-2986-46b9-8c32-71247fbc4c26",
   "metadata": {},
   "outputs": [
    {
     "data": {
      "text/plain": [
       "Mike     650\n",
       "Edwin    870\n",
       "dtype: int64"
      ]
     },
     "execution_count": 23,
     "metadata": {},
     "output_type": "execute_result"
    }
   ],
   "source": [
    "sales[sales>500]"
   ]
  },
  {
   "cell_type": "code",
   "execution_count": 25,
   "id": "5afc8fd4-3b24-413b-b0ef-eb6ec5c58c3d",
   "metadata": {},
   "outputs": [
    {
     "data": {
      "text/plain": [
       "False"
      ]
     },
     "execution_count": 25,
     "metadata": {},
     "output_type": "execute_result"
    }
   ],
   "source": [
    "\"Sally\" in sales"
   ]
  },
  {
   "cell_type": "code",
   "execution_count": 27,
   "id": "34ad2fbc-b3c5-4c83-ac95-7ad31db62ee2",
   "metadata": {},
   "outputs": [
    {
     "data": {
      "text/plain": [
       "False"
      ]
     },
     "execution_count": 27,
     "metadata": {},
     "output_type": "execute_result"
    }
   ],
   "source": [
    "450 in sales\n",
    "# 450 is not an index, it is a value. Hence this ouputs False"
   ]
  },
  {
   "cell_type": "markdown",
   "id": "e8ecdc69-1161-4304-83b6-3867b302ac61",
   "metadata": {},
   "source": [
    "### Working with Dictionaries"
   ]
  },
  {
   "cell_type": "code",
   "execution_count": 29,
   "id": "4696e9bf-05f4-4b8c-9808-614d6e8ca53c",
   "metadata": {},
   "outputs": [],
   "source": [
    "# Converting series to dictionary\n",
    "\n",
    "sales_dict = sales.to_dict()"
   ]
  },
  {
   "cell_type": "code",
   "execution_count": 30,
   "id": "87ba592d-b8d8-49a2-9be0-2eaaffa31595",
   "metadata": {},
   "outputs": [
    {
     "data": {
      "text/plain": [
       "{'Don': 450, 'Mike': 650, 'Edwin': 870}"
      ]
     },
     "execution_count": 30,
     "metadata": {},
     "output_type": "execute_result"
    }
   ],
   "source": [
    "sales_dict"
   ]
  },
  {
   "cell_type": "code",
   "execution_count": 31,
   "id": "bc254d66-6862-4867-9fad-fe313d933fb5",
   "metadata": {},
   "outputs": [
    {
     "data": {
      "text/plain": [
       "Don      450\n",
       "Mike     650\n",
       "Edwin    870\n",
       "dtype: int64"
      ]
     },
     "execution_count": 31,
     "metadata": {},
     "output_type": "execute_result"
    }
   ],
   "source": [
    "# Converting dictionary to series\n",
    "sales_ser = Series(sales_dict)\n",
    "sales_ser"
   ]
  },
  {
   "cell_type": "markdown",
   "id": "eda1f436-0996-4ed8-b94b-571d3826e98a",
   "metadata": {},
   "source": [
    "### Adding enties and working with NaN/null values"
   ]
  },
  {
   "cell_type": "code",
   "execution_count": 35,
   "id": "12dadace-53c5-49a7-8b8e-41c87374c52e",
   "metadata": {},
   "outputs": [],
   "source": [
    "# If indesx doesn't already have value, it is set to NaN by default\n",
    "new_sales = Series(sales, index=[\"Don\", \"Mike\", \"Sally\", \"Edwin\", \"Lucy\"])"
   ]
  },
  {
   "cell_type": "code",
   "execution_count": 36,
   "id": "daf429d9-c88f-4547-b45a-e45778e1fbae",
   "metadata": {},
   "outputs": [
    {
     "data": {
      "text/plain": [
       "Don      450.0\n",
       "Mike     650.0\n",
       "Sally      NaN\n",
       "Edwin    870.0\n",
       "Lucy       NaN\n",
       "dtype: float64"
      ]
     },
     "execution_count": 36,
     "metadata": {},
     "output_type": "execute_result"
    }
   ],
   "source": [
    "new_sales"
   ]
  },
  {
   "cell_type": "code",
   "execution_count": 37,
   "id": "4ab3cac1-452e-4e13-b933-5a5a5b6007a6",
   "metadata": {},
   "outputs": [
    {
     "data": {
      "text/plain": [
       "Don      False\n",
       "Mike     False\n",
       "Sally     True\n",
       "Edwin    False\n",
       "Lucy      True\n",
       "dtype: bool"
      ]
     },
     "execution_count": 37,
     "metadata": {},
     "output_type": "execute_result"
    }
   ],
   "source": [
    "np.isnan(new_sales)"
   ]
  },
  {
   "cell_type": "code",
   "execution_count": 38,
   "id": "9aa9e665-d594-4583-b268-74e0d1d97c74",
   "metadata": {},
   "outputs": [
    {
     "data": {
      "text/plain": [
       "Don      False\n",
       "Mike     False\n",
       "Sally     True\n",
       "Edwin    False\n",
       "Lucy      True\n",
       "dtype: bool"
      ]
     },
     "execution_count": 38,
     "metadata": {},
     "output_type": "execute_result"
    }
   ],
   "source": [
    "# To check for null values use pandas\n",
    "pd.isnull(new_sales)"
   ]
  },
  {
   "cell_type": "markdown",
   "id": "7e4151fd-c9dd-460f-b9fe-4a008209d613",
   "metadata": {},
   "source": [
    "### Naming Components in a Series"
   ]
  },
  {
   "cell_type": "code",
   "execution_count": 40,
   "id": "a96a08d0-2083-4fa0-a244-2d1733b630f1",
   "metadata": {},
   "outputs": [],
   "source": [
    "sales.index.name = \"Sales Person\""
   ]
  },
  {
   "cell_type": "code",
   "execution_count": 41,
   "id": "9afd2cdb-1c7b-4da7-9cf1-118862465e39",
   "metadata": {},
   "outputs": [
    {
     "data": {
      "text/plain": [
       "Sales Person\n",
       "Don      450\n",
       "Mike     650\n",
       "Edwin    870\n",
       "dtype: int64"
      ]
     },
     "execution_count": 41,
     "metadata": {},
     "output_type": "execute_result"
    }
   ],
   "source": [
    "sales"
   ]
  },
  {
   "cell_type": "code",
   "execution_count": 42,
   "id": "29bbc2ab-c350-4c8b-9628-2495180afaf1",
   "metadata": {},
   "outputs": [
    {
     "data": {
      "text/plain": [
       "Sales Person\n",
       "Don      450\n",
       "Mike     650\n",
       "Edwin    870\n",
       "Name: Total Sales, dtype: int64"
      ]
     },
     "execution_count": 42,
     "metadata": {},
     "output_type": "execute_result"
    }
   ],
   "source": [
    "# NMaming a series\n",
    "sales.name = \"Total Sales\"\n",
    "sales"
   ]
  },
  {
   "cell_type": "markdown",
   "id": "e930e213-c1ce-4232-9c1d-cad8dede56d2",
   "metadata": {},
   "source": [
    "## DataFrames\n",
    "\n",
    "DataFrames are two-dimensional, size-mutable, potentially heterogeneous tabular data structures. This data structure contains TWO labeled axes (row and column)"
   ]
  },
  {
   "cell_type": "markdown",
   "id": "6f458dc5-5547-4996-8364-7b7256efaafc",
   "metadata": {},
   "source": [
    "### Creating a DataFrame"
   ]
  },
  {
   "cell_type": "code",
   "execution_count": 44,
   "id": "61547e4a-8fd4-4f0d-b5d0-13976abd4f59",
   "metadata": {},
   "outputs": [],
   "source": [
    "# From list\n",
    "data = [[\"Adrian\", 20], [\"Bethany\", 23], [\"Chloe\", 41]]\n",
    "\n",
    "df = pd.DataFrame(data, columns=[\"Name\", \"Age\"])"
   ]
  },
  {
   "cell_type": "code",
   "execution_count": 45,
   "id": "6ff85d4f-5708-450b-9afa-d9a81b109649",
   "metadata": {},
   "outputs": [
    {
     "data": {
      "text/html": [
       "<div>\n",
       "<style scoped>\n",
       "    .dataframe tbody tr th:only-of-type {\n",
       "        vertical-align: middle;\n",
       "    }\n",
       "\n",
       "    .dataframe tbody tr th {\n",
       "        vertical-align: top;\n",
       "    }\n",
       "\n",
       "    .dataframe thead th {\n",
       "        text-align: right;\n",
       "    }\n",
       "</style>\n",
       "<table border=\"1\" class=\"dataframe\">\n",
       "  <thead>\n",
       "    <tr style=\"text-align: right;\">\n",
       "      <th></th>\n",
       "      <th>Name</th>\n",
       "      <th>Age</th>\n",
       "    </tr>\n",
       "  </thead>\n",
       "  <tbody>\n",
       "    <tr>\n",
       "      <th>0</th>\n",
       "      <td>Adrian</td>\n",
       "      <td>20</td>\n",
       "    </tr>\n",
       "    <tr>\n",
       "      <th>1</th>\n",
       "      <td>Bethany</td>\n",
       "      <td>23</td>\n",
       "    </tr>\n",
       "    <tr>\n",
       "      <th>2</th>\n",
       "      <td>Chloe</td>\n",
       "      <td>41</td>\n",
       "    </tr>\n",
       "  </tbody>\n",
       "</table>\n",
       "</div>"
      ],
      "text/plain": [
       "      Name  Age\n",
       "0   Adrian   20\n",
       "1  Bethany   23\n",
       "2    Chloe   41"
      ]
     },
     "execution_count": 45,
     "metadata": {},
     "output_type": "execute_result"
    }
   ],
   "source": [
    "df"
   ]
  },
  {
   "cell_type": "code",
   "execution_count": null,
   "id": "2c2e5aaf-2fa1-499a-8c86-55ad596a2580",
   "metadata": {},
   "outputs": [],
   "source": []
  }
 ],
 "metadata": {
  "kernelspec": {
   "display_name": "Python 3 (ipykernel)",
   "language": "python",
   "name": "python3"
  },
  "language_info": {
   "codemirror_mode": {
    "name": "ipython",
    "version": 3
   },
   "file_extension": ".py",
   "mimetype": "text/x-python",
   "name": "python",
   "nbconvert_exporter": "python",
   "pygments_lexer": "ipython3",
   "version": "3.13.1"
  }
 },
 "nbformat": 4,
 "nbformat_minor": 5
}
