{
 "cells": [
  {
   "cell_type": "markdown",
   "id": "115160f0-ec3f-482a-a9f9-e4d495fa5b27",
   "metadata": {},
   "source": [
    "# Introduction to Pandas\n",
    "\n",
    "Pandas is a high level fata manipulation package which was built on top of Numpy. The key structures within pandas include Series and Dataframes\n"
   ]
  },
  {
   "cell_type": "markdown",
   "id": "44eb1000-98b4-46d3-adc0-ca917f8d11bc",
   "metadata": {},
   "source": [
    "## Series\n",
    "\n",
    "A series is a one-dimensional array with axis labels. A series is a ndarray, thus it is homogeneous and cannot store multiple dtypes."
   ]
  },
  {
   "cell_type": "code",
   "execution_count": 1,
   "id": "7bdd8908-589c-48c9-a93a-b38941acd108",
   "metadata": {},
   "outputs": [],
   "source": [
    "import numpy as np\n",
    "import pandas as pd\n",
    "from pandas import Series, DataFrame"
   ]
  },
  {
   "cell_type": "code",
   "execution_count": 5,
   "id": "14b0f1c6-f64b-4ab8-a9af-4941724f46a2",
   "metadata": {},
   "outputs": [
    {
     "data": {
      "text/plain": [
       "0    10\n",
       "1    20\n",
       "2    30\n",
       "3    40\n",
       "4    50\n",
       "dtype: int64"
      ]
     },
     "execution_count": 5,
     "metadata": {},
     "output_type": "execute_result"
    }
   ],
   "source": [
    "x = pd.Series([10,20,30,40,50])\n",
    "x"
   ]
  },
  {
   "cell_type": "code",
   "execution_count": 6,
   "id": "8189b735-e784-4925-a3a1-34e746fa150a",
   "metadata": {},
   "outputs": [
    {
     "data": {
      "text/plain": [
       "RangeIndex(start=0, stop=5, step=1)"
      ]
     },
     "execution_count": 6,
     "metadata": {},
     "output_type": "execute_result"
    }
   ],
   "source": [
    "x.index"
   ]
  },
  {
   "cell_type": "code",
   "execution_count": 7,
   "id": "09b731c0-9389-4330-b09c-1a99f60bd8f0",
   "metadata": {},
   "outputs": [
    {
     "data": {
      "text/plain": [
       "array([10, 20, 30, 40, 50])"
      ]
     },
     "execution_count": 7,
     "metadata": {},
     "output_type": "execute_result"
    }
   ],
   "source": [
    "x.values"
   ]
  },
  {
   "cell_type": "code",
   "execution_count": 8,
   "id": "3e2069b9-da3d-4e33-984d-f43870dd701d",
   "metadata": {},
   "outputs": [
    {
     "data": {
      "text/plain": [
       "dtype('int64')"
      ]
     },
     "execution_count": 8,
     "metadata": {},
     "output_type": "execute_result"
    }
   ],
   "source": [
    "x.dtype"
   ]
  },
  {
   "cell_type": "code",
   "execution_count": 11,
   "id": "1fc93825-e2d0-491f-8afd-029c46850692",
   "metadata": {},
   "outputs": [],
   "source": [
    "# Creating series with an index\n",
    "\n",
    "data = [450, 650, 870]\n",
    "sales = Series(data, index=[\"Don\", \"Mike\", \"Edwin\"])"
   ]
  },
  {
   "cell_type": "code",
   "execution_count": 12,
   "id": "0ab8177a-0fd3-4db1-830b-ff8b54f1519a",
   "metadata": {},
   "outputs": [
    {
     "data": {
      "text/plain": [
       "Don      450\n",
       "Mike     650\n",
       "Edwin    870\n",
       "dtype: int64"
      ]
     },
     "execution_count": 12,
     "metadata": {},
     "output_type": "execute_result"
    }
   ],
   "source": [
    "sales"
   ]
  },
  {
   "cell_type": "code",
   "execution_count": 13,
   "id": "1253b059-3958-4b71-a823-1013f50c525b",
   "metadata": {},
   "outputs": [
    {
     "data": {
      "text/plain": [
       "pandas.core.series.Series"
      ]
     },
     "execution_count": 13,
     "metadata": {},
     "output_type": "execute_result"
    }
   ],
   "source": [
    "type(sales)"
   ]
  },
  {
   "cell_type": "code",
   "execution_count": 14,
   "id": "64a994ab-0075-43de-a932-b0292365c299",
   "metadata": {},
   "outputs": [
    {
     "data": {
      "text/plain": [
       "Index(['Don', 'Mike', 'Edwin'], dtype='object')"
      ]
     },
     "execution_count": 14,
     "metadata": {},
     "output_type": "execute_result"
    }
   ],
   "source": [
    "sales.index"
   ]
  },
  {
   "cell_type": "markdown",
   "id": "5b7f53f3-252b-424a-b0d1-ddf537101717",
   "metadata": {},
   "source": [
    "## Accessing Values"
   ]
  },
  {
   "cell_type": "code",
   "execution_count": 17,
   "id": "83cbca4a-922e-48f5-98db-17fa6b933351",
   "metadata": {},
   "outputs": [
    {
     "data": {
      "text/plain": [
       "np.int64(450)"
      ]
     },
     "execution_count": 17,
     "metadata": {},
     "output_type": "execute_result"
    }
   ],
   "source": [
    "sales[\"Don\"]"
   ]
  },
  {
   "cell_type": "code",
   "execution_count": 18,
   "id": "740cc384-263b-4c29-aa7c-c419336ed238",
   "metadata": {},
   "outputs": [
    {
     "name": "stderr",
     "output_type": "stream",
     "text": [
      "C:\\Users\\vidus\\AppData\\Local\\Temp\\ipykernel_20412\\1101347017.py:1: FutureWarning: Series.__getitem__ treating keys as positions is deprecated. In a future version, integer keys will always be treated as labels (consistent with DataFrame behavior). To access a value by position, use `ser.iloc[pos]`\n",
      "  sales[0]\n"
     ]
    },
    {
     "data": {
      "text/plain": [
       "np.int64(450)"
      ]
     },
     "execution_count": 18,
     "metadata": {},
     "output_type": "execute_result"
    }
   ],
   "source": [
    "sales[0]"
   ]
  },
  {
   "cell_type": "code",
   "execution_count": 20,
   "id": "0bbe5de3-464d-44ff-80ca-4b54b1beae00",
   "metadata": {},
   "outputs": [
    {
     "data": {
      "text/plain": [
       "np.int64(450)"
      ]
     },
     "execution_count": 20,
     "metadata": {},
     "output_type": "execute_result"
    }
   ],
   "source": [
    "sales.iloc[0]"
   ]
  },
  {
   "cell_type": "markdown",
   "id": "ce4c3479-aedf-4a9f-8b0c-62b99f5a61ca",
   "metadata": {},
   "source": [
    "## Checking for conditions"
   ]
  },
  {
   "cell_type": "code",
   "execution_count": 21,
   "id": "f3ca1436-da9c-4cc4-91c5-872c4bf60711",
   "metadata": {},
   "outputs": [
    {
     "data": {
      "text/plain": [
       "Don      False\n",
       "Mike      True\n",
       "Edwin     True\n",
       "dtype: bool"
      ]
     },
     "execution_count": 21,
     "metadata": {},
     "output_type": "execute_result"
    }
   ],
   "source": [
    "sales > 500"
   ]
  },
  {
   "cell_type": "code",
   "execution_count": 22,
   "id": "cb8e3499-cc9f-491f-965b-c3cea192ff60",
   "metadata": {},
   "outputs": [
    {
     "data": {
      "text/plain": [
       "Mike     650\n",
       "Edwin    870\n",
       "dtype: int64"
      ]
     },
     "execution_count": 22,
     "metadata": {},
     "output_type": "execute_result"
    }
   ],
   "source": [
    "sales[[False, True, True]]"
   ]
  },
  {
   "cell_type": "code",
   "execution_count": 23,
   "id": "f3da185f-2986-46b9-8c32-71247fbc4c26",
   "metadata": {},
   "outputs": [
    {
     "data": {
      "text/plain": [
       "Mike     650\n",
       "Edwin    870\n",
       "dtype: int64"
      ]
     },
     "execution_count": 23,
     "metadata": {},
     "output_type": "execute_result"
    }
   ],
   "source": [
    "sales[sales>500]"
   ]
  },
  {
   "cell_type": "code",
   "execution_count": 25,
   "id": "5afc8fd4-3b24-413b-b0ef-eb6ec5c58c3d",
   "metadata": {},
   "outputs": [
    {
     "data": {
      "text/plain": [
       "False"
      ]
     },
     "execution_count": 25,
     "metadata": {},
     "output_type": "execute_result"
    }
   ],
   "source": [
    "\"Sally\" in sales"
   ]
  },
  {
   "cell_type": "code",
   "execution_count": 27,
   "id": "34ad2fbc-b3c5-4c83-ac95-7ad31db62ee2",
   "metadata": {},
   "outputs": [
    {
     "data": {
      "text/plain": [
       "False"
      ]
     },
     "execution_count": 27,
     "metadata": {},
     "output_type": "execute_result"
    }
   ],
   "source": [
    "450 in sales\n",
    "# 450 is not an index, it is a value. Hence this ouputs False"
   ]
  },
  {
   "cell_type": "markdown",
   "id": "e8ecdc69-1161-4304-83b6-3867b302ac61",
   "metadata": {},
   "source": [
    "### Working with Dictionaries"
   ]
  },
  {
   "cell_type": "code",
   "execution_count": 29,
   "id": "4696e9bf-05f4-4b8c-9808-614d6e8ca53c",
   "metadata": {},
   "outputs": [],
   "source": [
    "# Converting series to dictionary\n",
    "\n",
    "sales_dict = sales.to_dict()"
   ]
  },
  {
   "cell_type": "code",
   "execution_count": 30,
   "id": "87ba592d-b8d8-49a2-9be0-2eaaffa31595",
   "metadata": {},
   "outputs": [
    {
     "data": {
      "text/plain": [
       "{'Don': 450, 'Mike': 650, 'Edwin': 870}"
      ]
     },
     "execution_count": 30,
     "metadata": {},
     "output_type": "execute_result"
    }
   ],
   "source": [
    "sales_dict"
   ]
  },
  {
   "cell_type": "code",
   "execution_count": 31,
   "id": "bc254d66-6862-4867-9fad-fe313d933fb5",
   "metadata": {},
   "outputs": [
    {
     "data": {
      "text/plain": [
       "Don      450\n",
       "Mike     650\n",
       "Edwin    870\n",
       "dtype: int64"
      ]
     },
     "execution_count": 31,
     "metadata": {},
     "output_type": "execute_result"
    }
   ],
   "source": [
    "# Converting dictionary to series\n",
    "sales_ser = Series(sales_dict)\n",
    "sales_ser"
   ]
  },
  {
   "cell_type": "markdown",
   "id": "eda1f436-0996-4ed8-b94b-571d3826e98a",
   "metadata": {},
   "source": [
    "### Adding enties and working with NaN/null values"
   ]
  },
  {
   "cell_type": "code",
   "execution_count": 35,
   "id": "12dadace-53c5-49a7-8b8e-41c87374c52e",
   "metadata": {},
   "outputs": [],
   "source": [
    "# If indesx doesn't already have value, it is set to NaN by default\n",
    "new_sales = Series(sales, index=[\"Don\", \"Mike\", \"Sally\", \"Edwin\", \"Lucy\"])"
   ]
  },
  {
   "cell_type": "code",
   "execution_count": 36,
   "id": "daf429d9-c88f-4547-b45a-e45778e1fbae",
   "metadata": {},
   "outputs": [
    {
     "data": {
      "text/plain": [
       "Don      450.0\n",
       "Mike     650.0\n",
       "Sally      NaN\n",
       "Edwin    870.0\n",
       "Lucy       NaN\n",
       "dtype: float64"
      ]
     },
     "execution_count": 36,
     "metadata": {},
     "output_type": "execute_result"
    }
   ],
   "source": [
    "new_sales"
   ]
  },
  {
   "cell_type": "code",
   "execution_count": 37,
   "id": "4ab3cac1-452e-4e13-b933-5a5a5b6007a6",
   "metadata": {},
   "outputs": [
    {
     "data": {
      "text/plain": [
       "Don      False\n",
       "Mike     False\n",
       "Sally     True\n",
       "Edwin    False\n",
       "Lucy      True\n",
       "dtype: bool"
      ]
     },
     "execution_count": 37,
     "metadata": {},
     "output_type": "execute_result"
    }
   ],
   "source": [
    "np.isnan(new_sales)"
   ]
  },
  {
   "cell_type": "code",
   "execution_count": 38,
   "id": "9aa9e665-d594-4583-b268-74e0d1d97c74",
   "metadata": {},
   "outputs": [
    {
     "data": {
      "text/plain": [
       "Don      False\n",
       "Mike     False\n",
       "Sally     True\n",
       "Edwin    False\n",
       "Lucy      True\n",
       "dtype: bool"
      ]
     },
     "execution_count": 38,
     "metadata": {},
     "output_type": "execute_result"
    }
   ],
   "source": [
    "# To check for null values use pandas\n",
    "pd.isnull(new_sales)"
   ]
  },
  {
   "cell_type": "markdown",
   "id": "7e4151fd-c9dd-460f-b9fe-4a008209d613",
   "metadata": {},
   "source": [
    "### Naming Components in a Series"
   ]
  },
  {
   "cell_type": "code",
   "execution_count": 40,
   "id": "a96a08d0-2083-4fa0-a244-2d1733b630f1",
   "metadata": {},
   "outputs": [],
   "source": [
    "sales.index.name = \"Sales Person\""
   ]
  },
  {
   "cell_type": "code",
   "execution_count": 41,
   "id": "9afd2cdb-1c7b-4da7-9cf1-118862465e39",
   "metadata": {},
   "outputs": [
    {
     "data": {
      "text/plain": [
       "Sales Person\n",
       "Don      450\n",
       "Mike     650\n",
       "Edwin    870\n",
       "dtype: int64"
      ]
     },
     "execution_count": 41,
     "metadata": {},
     "output_type": "execute_result"
    }
   ],
   "source": [
    "sales"
   ]
  },
  {
   "cell_type": "code",
   "execution_count": 42,
   "id": "29bbc2ab-c350-4c8b-9628-2495180afaf1",
   "metadata": {},
   "outputs": [
    {
     "data": {
      "text/plain": [
       "Sales Person\n",
       "Don      450\n",
       "Mike     650\n",
       "Edwin    870\n",
       "Name: Total Sales, dtype: int64"
      ]
     },
     "execution_count": 42,
     "metadata": {},
     "output_type": "execute_result"
    }
   ],
   "source": [
    "# NMaming a series\n",
    "sales.name = \"Total Sales\"\n",
    "sales"
   ]
  },
  {
   "cell_type": "markdown",
   "id": "e930e213-c1ce-4232-9c1d-cad8dede56d2",
   "metadata": {},
   "source": [
    "## DataFrames\n",
    "\n",
    "DataFrames are two-dimensional, size-mutable, potentially heterogeneous tabular data structures. This data structure contains TWO labeled axes (row and column)"
   ]
  },
  {
   "cell_type": "markdown",
   "id": "6f458dc5-5547-4996-8364-7b7256efaafc",
   "metadata": {},
   "source": [
    "### Creating a DataFrame"
   ]
  },
  {
   "cell_type": "code",
   "execution_count": 44,
   "id": "61547e4a-8fd4-4f0d-b5d0-13976abd4f59",
   "metadata": {},
   "outputs": [],
   "source": [
    "# From list\n",
    "data = [[\"Adrian\", 20], [\"Bethany\", 23], [\"Chloe\", 41]]\n",
    "\n",
    "df = pd.DataFrame(data, columns=[\"Name\", \"Age\"])"
   ]
  },
  {
   "cell_type": "code",
   "execution_count": 45,
   "id": "6ff85d4f-5708-450b-9afa-d9a81b109649",
   "metadata": {},
   "outputs": [
    {
     "data": {
      "text/html": [
       "<div>\n",
       "<style scoped>\n",
       "    .dataframe tbody tr th:only-of-type {\n",
       "        vertical-align: middle;\n",
       "    }\n",
       "\n",
       "    .dataframe tbody tr th {\n",
       "        vertical-align: top;\n",
       "    }\n",
       "\n",
       "    .dataframe thead th {\n",
       "        text-align: right;\n",
       "    }\n",
       "</style>\n",
       "<table border=\"1\" class=\"dataframe\">\n",
       "  <thead>\n",
       "    <tr style=\"text-align: right;\">\n",
       "      <th></th>\n",
       "      <th>Name</th>\n",
       "      <th>Age</th>\n",
       "    </tr>\n",
       "  </thead>\n",
       "  <tbody>\n",
       "    <tr>\n",
       "      <th>0</th>\n",
       "      <td>Adrian</td>\n",
       "      <td>20</td>\n",
       "    </tr>\n",
       "    <tr>\n",
       "      <th>1</th>\n",
       "      <td>Bethany</td>\n",
       "      <td>23</td>\n",
       "    </tr>\n",
       "    <tr>\n",
       "      <th>2</th>\n",
       "      <td>Chloe</td>\n",
       "      <td>41</td>\n",
       "    </tr>\n",
       "  </tbody>\n",
       "</table>\n",
       "</div>"
      ],
      "text/plain": [
       "      Name  Age\n",
       "0   Adrian   20\n",
       "1  Bethany   23\n",
       "2    Chloe   41"
      ]
     },
     "execution_count": 45,
     "metadata": {},
     "output_type": "execute_result"
    }
   ],
   "source": [
    "df"
   ]
  },
  {
   "cell_type": "markdown",
   "id": "109431e1-c6bf-400b-9ee1-eb6fe39baa6b",
   "metadata": {},
   "source": [
    "### Pandas DataFrame Research Task"
   ]
  },
  {
   "cell_type": "markdown",
   "id": "ec76ffd9-c286-43cc-b738-a48b1f9ed731",
   "metadata": {},
   "source": [
    "#### Creating a DataFrame from a dictionary"
   ]
  },
  {
   "cell_type": "code",
   "execution_count": 60,
   "id": "7e4e40d2-105e-4209-950c-d9a5334fc373",
   "metadata": {},
   "outputs": [],
   "source": [
    "data_dict = {\"row1\" : [\"Adrian\", 20], \"row2\" : [\"Bethany\", 23], \"row3\": [\"Chloe\", 41]}"
   ]
  },
  {
   "cell_type": "code",
   "execution_count": 61,
   "id": "5990d817-d49a-48c9-a31b-6da0727730e6",
   "metadata": {},
   "outputs": [],
   "source": [
    "# orient arguement in the from_dict function can be used to set dictionary keys as rows or columns\n",
    "# columns arguement can be used to set custom columns\n",
    "\n",
    "df_dict = pd.DataFrame.from_dict(data_dict, orient=\"index\", columns=[\"Person\", \"Number\"])"
   ]
  },
  {
   "cell_type": "code",
   "execution_count": 62,
   "id": "d4e23119-9f4c-4c35-93a1-186d14a6d0a5",
   "metadata": {},
   "outputs": [
    {
     "data": {
      "text/html": [
       "<div>\n",
       "<style scoped>\n",
       "    .dataframe tbody tr th:only-of-type {\n",
       "        vertical-align: middle;\n",
       "    }\n",
       "\n",
       "    .dataframe tbody tr th {\n",
       "        vertical-align: top;\n",
       "    }\n",
       "\n",
       "    .dataframe thead th {\n",
       "        text-align: right;\n",
       "    }\n",
       "</style>\n",
       "<table border=\"1\" class=\"dataframe\">\n",
       "  <thead>\n",
       "    <tr style=\"text-align: right;\">\n",
       "      <th></th>\n",
       "      <th>Person</th>\n",
       "      <th>Number</th>\n",
       "    </tr>\n",
       "  </thead>\n",
       "  <tbody>\n",
       "    <tr>\n",
       "      <th>row1</th>\n",
       "      <td>Adrian</td>\n",
       "      <td>20</td>\n",
       "    </tr>\n",
       "    <tr>\n",
       "      <th>row2</th>\n",
       "      <td>Bethany</td>\n",
       "      <td>23</td>\n",
       "    </tr>\n",
       "    <tr>\n",
       "      <th>row3</th>\n",
       "      <td>Chloe</td>\n",
       "      <td>41</td>\n",
       "    </tr>\n",
       "  </tbody>\n",
       "</table>\n",
       "</div>"
      ],
      "text/plain": [
       "       Person  Number\n",
       "row1   Adrian      20\n",
       "row2  Bethany      23\n",
       "row3    Chloe      41"
      ]
     },
     "execution_count": 62,
     "metadata": {},
     "output_type": "execute_result"
    }
   ],
   "source": [
    "df_dict"
   ]
  },
  {
   "cell_type": "markdown",
   "id": "c48bfb78-d638-4012-ad43-6cd86edac842",
   "metadata": {},
   "source": [
    "#### Creating a DataFrame from a list of dictionaries"
   ]
  },
  {
   "cell_type": "code",
   "execution_count": 64,
   "id": "6848d8ff-b45f-44cf-9b53-0a9dfae341c9",
   "metadata": {},
   "outputs": [],
   "source": [
    "data_dict_list = [{'Person': 'Adrian', 'Age': 20}, \n",
    "        {'Person': \"Bethany\", 'Age': 23}]\n",
    "\n",
    "df_list_dict = pd.DataFrame.from_records(data_dict_list)"
   ]
  },
  {
   "cell_type": "code",
   "execution_count": 65,
   "id": "2118d71e-bd33-4ffd-8706-e162b9b58708",
   "metadata": {},
   "outputs": [
    {
     "data": {
      "text/html": [
       "<div>\n",
       "<style scoped>\n",
       "    .dataframe tbody tr th:only-of-type {\n",
       "        vertical-align: middle;\n",
       "    }\n",
       "\n",
       "    .dataframe tbody tr th {\n",
       "        vertical-align: top;\n",
       "    }\n",
       "\n",
       "    .dataframe thead th {\n",
       "        text-align: right;\n",
       "    }\n",
       "</style>\n",
       "<table border=\"1\" class=\"dataframe\">\n",
       "  <thead>\n",
       "    <tr style=\"text-align: right;\">\n",
       "      <th></th>\n",
       "      <th>Person</th>\n",
       "      <th>Age</th>\n",
       "    </tr>\n",
       "  </thead>\n",
       "  <tbody>\n",
       "    <tr>\n",
       "      <th>0</th>\n",
       "      <td>Adrian</td>\n",
       "      <td>20</td>\n",
       "    </tr>\n",
       "    <tr>\n",
       "      <th>1</th>\n",
       "      <td>Bethany</td>\n",
       "      <td>23</td>\n",
       "    </tr>\n",
       "  </tbody>\n",
       "</table>\n",
       "</div>"
      ],
      "text/plain": [
       "    Person  Age\n",
       "0   Adrian   20\n",
       "1  Bethany   23"
      ]
     },
     "execution_count": 65,
     "metadata": {},
     "output_type": "execute_result"
    }
   ],
   "source": [
    "df_list_dict"
   ]
  },
  {
   "cell_type": "markdown",
   "id": "45baf83f-1275-40ae-8d6c-850066e45b55",
   "metadata": {},
   "source": [
    "#### Creating DataFrame from a Series"
   ]
  },
  {
   "cell_type": "code",
   "execution_count": 2,
   "id": "b4e183ee-c253-432e-81e9-8231623f7824",
   "metadata": {},
   "outputs": [],
   "source": [
    "person_list = [\"A\", \"B\", \"C\"]\n",
    "age_list = [20, 23, 21]\n",
    "\n",
    "person_series = pd.Series(person_list)\n",
    "age_series = pd.Series(age_list)"
   ]
  },
  {
   "cell_type": "code",
   "execution_count": 3,
   "id": "ea546b23-0889-4386-a0b3-e0e78c8450ec",
   "metadata": {},
   "outputs": [],
   "source": [
    "# To convert series to dataframe, it must be added to a disctiory and then converted to dataframe\n",
    "column_dict = {\"Person\" : person_series, \"Age\" : age_series}\n",
    "series_df = pd.DataFrame(column_dict)"
   ]
  },
  {
   "cell_type": "code",
   "execution_count": 4,
   "id": "5df895fd-8796-4c6f-8ecc-9bf974016ab4",
   "metadata": {},
   "outputs": [
    {
     "data": {
      "text/html": [
       "<div>\n",
       "<style scoped>\n",
       "    .dataframe tbody tr th:only-of-type {\n",
       "        vertical-align: middle;\n",
       "    }\n",
       "\n",
       "    .dataframe tbody tr th {\n",
       "        vertical-align: top;\n",
       "    }\n",
       "\n",
       "    .dataframe thead th {\n",
       "        text-align: right;\n",
       "    }\n",
       "</style>\n",
       "<table border=\"1\" class=\"dataframe\">\n",
       "  <thead>\n",
       "    <tr style=\"text-align: right;\">\n",
       "      <th></th>\n",
       "      <th>Person</th>\n",
       "      <th>Age</th>\n",
       "    </tr>\n",
       "  </thead>\n",
       "  <tbody>\n",
       "    <tr>\n",
       "      <th>0</th>\n",
       "      <td>A</td>\n",
       "      <td>20</td>\n",
       "    </tr>\n",
       "    <tr>\n",
       "      <th>1</th>\n",
       "      <td>B</td>\n",
       "      <td>23</td>\n",
       "    </tr>\n",
       "    <tr>\n",
       "      <th>2</th>\n",
       "      <td>C</td>\n",
       "      <td>21</td>\n",
       "    </tr>\n",
       "  </tbody>\n",
       "</table>\n",
       "</div>"
      ],
      "text/plain": [
       "  Person  Age\n",
       "0      A   20\n",
       "1      B   23\n",
       "2      C   21"
      ]
     },
     "execution_count": 4,
     "metadata": {},
     "output_type": "execute_result"
    }
   ],
   "source": [
    "series_df"
   ]
  },
  {
   "cell_type": "markdown",
   "id": "8f85767e-ebfd-4b9f-a624-b77d5e4c6a7a",
   "metadata": {},
   "source": [
    "#### Adding a series to existing DataFrame"
   ]
  },
  {
   "cell_type": "code",
   "execution_count": 6,
   "id": "15297663-d321-4d91-a529-b625322a8021",
   "metadata": {},
   "outputs": [],
   "source": [
    "city_list = [\"London\", \"New York\", \"London\"]\n",
    "city_series = pd.Series(city_list)"
   ]
  },
  {
   "cell_type": "code",
   "execution_count": 7,
   "id": "5040fd14-6db4-497e-876c-d9eeea88cb03",
   "metadata": {},
   "outputs": [],
   "source": [
    "series_df['City'] = city_series"
   ]
  },
  {
   "cell_type": "code",
   "execution_count": 8,
   "id": "3c07a97c-882f-4641-8b57-e44e0df4e7b2",
   "metadata": {},
   "outputs": [
    {
     "data": {
      "text/html": [
       "<div>\n",
       "<style scoped>\n",
       "    .dataframe tbody tr th:only-of-type {\n",
       "        vertical-align: middle;\n",
       "    }\n",
       "\n",
       "    .dataframe tbody tr th {\n",
       "        vertical-align: top;\n",
       "    }\n",
       "\n",
       "    .dataframe thead th {\n",
       "        text-align: right;\n",
       "    }\n",
       "</style>\n",
       "<table border=\"1\" class=\"dataframe\">\n",
       "  <thead>\n",
       "    <tr style=\"text-align: right;\">\n",
       "      <th></th>\n",
       "      <th>Person</th>\n",
       "      <th>Age</th>\n",
       "      <th>City</th>\n",
       "    </tr>\n",
       "  </thead>\n",
       "  <tbody>\n",
       "    <tr>\n",
       "      <th>0</th>\n",
       "      <td>A</td>\n",
       "      <td>20</td>\n",
       "      <td>London</td>\n",
       "    </tr>\n",
       "    <tr>\n",
       "      <th>1</th>\n",
       "      <td>B</td>\n",
       "      <td>23</td>\n",
       "      <td>New York</td>\n",
       "    </tr>\n",
       "    <tr>\n",
       "      <th>2</th>\n",
       "      <td>C</td>\n",
       "      <td>21</td>\n",
       "      <td>London</td>\n",
       "    </tr>\n",
       "  </tbody>\n",
       "</table>\n",
       "</div>"
      ],
      "text/plain": [
       "  Person  Age      City\n",
       "0      A   20    London\n",
       "1      B   23  New York\n",
       "2      C   21    London"
      ]
     },
     "execution_count": 8,
     "metadata": {},
     "output_type": "execute_result"
    }
   ],
   "source": [
    "series_df"
   ]
  },
  {
   "cell_type": "markdown",
   "id": "b811872e-718c-48a6-9f2c-a529d491523e",
   "metadata": {},
   "source": [
    "#### Changing index of a DataFrame"
   ]
  },
  {
   "cell_type": "code",
   "execution_count": 9,
   "id": "2e5a0406-022c-41cb-8eb6-56a67369caf7",
   "metadata": {},
   "outputs": [
    {
     "data": {
      "text/html": [
       "<div>\n",
       "<style scoped>\n",
       "    .dataframe tbody tr th:only-of-type {\n",
       "        vertical-align: middle;\n",
       "    }\n",
       "\n",
       "    .dataframe tbody tr th {\n",
       "        vertical-align: top;\n",
       "    }\n",
       "\n",
       "    .dataframe thead th {\n",
       "        text-align: right;\n",
       "    }\n",
       "</style>\n",
       "<table border=\"1\" class=\"dataframe\">\n",
       "  <thead>\n",
       "    <tr style=\"text-align: right;\">\n",
       "      <th></th>\n",
       "      <th>Age</th>\n",
       "      <th>City</th>\n",
       "    </tr>\n",
       "    <tr>\n",
       "      <th>Person</th>\n",
       "      <th></th>\n",
       "      <th></th>\n",
       "    </tr>\n",
       "  </thead>\n",
       "  <tbody>\n",
       "    <tr>\n",
       "      <th>A</th>\n",
       "      <td>20</td>\n",
       "      <td>London</td>\n",
       "    </tr>\n",
       "    <tr>\n",
       "      <th>B</th>\n",
       "      <td>23</td>\n",
       "      <td>New York</td>\n",
       "    </tr>\n",
       "    <tr>\n",
       "      <th>C</th>\n",
       "      <td>21</td>\n",
       "      <td>London</td>\n",
       "    </tr>\n",
       "  </tbody>\n",
       "</table>\n",
       "</div>"
      ],
      "text/plain": [
       "        Age      City\n",
       "Person               \n",
       "A        20    London\n",
       "B        23  New York\n",
       "C        21    London"
      ]
     },
     "execution_count": 9,
     "metadata": {},
     "output_type": "execute_result"
    }
   ],
   "source": [
    "# set_index() can be used to change index of a DataFrame\n",
    "# inplace arguement needs to be set true for change to be permenant\n",
    "\n",
    "series_df.set_index('Person')"
   ]
  },
  {
   "cell_type": "markdown",
   "id": "2ac579bf-a916-44bb-b952-2b2d3b4f8aa1",
   "metadata": {},
   "source": [
    "#### Filling missing values\n"
   ]
  },
  {
   "cell_type": "markdown",
   "id": "5a528988-cd7d-4c11-bdd7-6b7a073f4de4",
   "metadata": {},
   "source": [
    "fillna() function can be used to fill missing values"
   ]
  },
  {
   "cell_type": "code",
   "execution_count": null,
   "id": "ae81be23-a05a-45c8-9fae-e14e6652d01f",
   "metadata": {},
   "outputs": [],
   "source": [
    "data = {\n",
    "    \"Name\": [\"Alice\", \"Bob\", \"Charlie\", \"David\", np.nan],\n",
    "    \"Age\": [25, np.nan, 30, 35, 40],\n",
    "    \"City\": [\"New York\", \"Los Angeles\", np.nan, \"Chicago\", \"Houston\"],\n",
    "    \"Salary\": [50000, 60000, 70000, np.nan, 90000],\n",
    "}\n",
    "\n",
    "df = pd.DataFrame(data)"
   ]
  },
  {
   "cell_type": "code",
   "execution_count": 11,
   "id": "505c2c14-2f39-4d0f-afa1-804dd9ec5d54",
   "metadata": {},
   "outputs": [
    {
     "data": {
      "text/html": [
       "<div>\n",
       "<style scoped>\n",
       "    .dataframe tbody tr th:only-of-type {\n",
       "        vertical-align: middle;\n",
       "    }\n",
       "\n",
       "    .dataframe tbody tr th {\n",
       "        vertical-align: top;\n",
       "    }\n",
       "\n",
       "    .dataframe thead th {\n",
       "        text-align: right;\n",
       "    }\n",
       "</style>\n",
       "<table border=\"1\" class=\"dataframe\">\n",
       "  <thead>\n",
       "    <tr style=\"text-align: right;\">\n",
       "      <th></th>\n",
       "      <th>Name</th>\n",
       "      <th>Age</th>\n",
       "      <th>City</th>\n",
       "      <th>Salary</th>\n",
       "    </tr>\n",
       "  </thead>\n",
       "  <tbody>\n",
       "    <tr>\n",
       "      <th>0</th>\n",
       "      <td>Alice</td>\n",
       "      <td>25.0</td>\n",
       "      <td>New York</td>\n",
       "      <td>50000.0</td>\n",
       "    </tr>\n",
       "    <tr>\n",
       "      <th>1</th>\n",
       "      <td>Bob</td>\n",
       "      <td>NaN Filler</td>\n",
       "      <td>Los Angeles</td>\n",
       "      <td>60000.0</td>\n",
       "    </tr>\n",
       "    <tr>\n",
       "      <th>2</th>\n",
       "      <td>Charlie</td>\n",
       "      <td>30.0</td>\n",
       "      <td>NaN Filler</td>\n",
       "      <td>70000.0</td>\n",
       "    </tr>\n",
       "    <tr>\n",
       "      <th>3</th>\n",
       "      <td>David</td>\n",
       "      <td>35.0</td>\n",
       "      <td>Chicago</td>\n",
       "      <td>NaN Filler</td>\n",
       "    </tr>\n",
       "    <tr>\n",
       "      <th>4</th>\n",
       "      <td>NaN Filler</td>\n",
       "      <td>40.0</td>\n",
       "      <td>Houston</td>\n",
       "      <td>90000.0</td>\n",
       "    </tr>\n",
       "  </tbody>\n",
       "</table>\n",
       "</div>"
      ],
      "text/plain": [
       "         Name         Age         City      Salary\n",
       "0       Alice        25.0     New York     50000.0\n",
       "1         Bob  NaN Filler  Los Angeles     60000.0\n",
       "2     Charlie        30.0   NaN Filler     70000.0\n",
       "3       David        35.0      Chicago  NaN Filler\n",
       "4  NaN Filler        40.0      Houston     90000.0"
      ]
     },
     "execution_count": 11,
     "metadata": {},
     "output_type": "execute_result"
    }
   ],
   "source": [
    "df.fillna(\"NaN Filler\")"
   ]
  },
  {
   "cell_type": "markdown",
   "id": "a51988cc-ec23-41c9-8c6d-681cb8ebb19b",
   "metadata": {},
   "source": [
    "method arguement can be given the value pad or bfill to perform a forward fill or backward fill. Forward fill fills the missing value with a previous value and backward fill fills the missing value with the next value. <br>\n",
    "Note: This is an old method and is ideal to use seperate functions called ffill() and bfill() for these operations."
   ]
  },
  {
   "cell_type": "code",
   "execution_count": 12,
   "id": "fb82e5eb-2b27-4584-8282-1e1d9d4c2ec3",
   "metadata": {},
   "outputs": [
    {
     "name": "stderr",
     "output_type": "stream",
     "text": [
      "C:\\Users\\vidus\\AppData\\Local\\Temp\\ipykernel_31956\\196241153.py:1: FutureWarning: DataFrame.fillna with 'method' is deprecated and will raise in a future version. Use obj.ffill() or obj.bfill() instead.\n",
      "  df.fillna(method='pad')\n"
     ]
    },
    {
     "data": {
      "text/html": [
       "<div>\n",
       "<style scoped>\n",
       "    .dataframe tbody tr th:only-of-type {\n",
       "        vertical-align: middle;\n",
       "    }\n",
       "\n",
       "    .dataframe tbody tr th {\n",
       "        vertical-align: top;\n",
       "    }\n",
       "\n",
       "    .dataframe thead th {\n",
       "        text-align: right;\n",
       "    }\n",
       "</style>\n",
       "<table border=\"1\" class=\"dataframe\">\n",
       "  <thead>\n",
       "    <tr style=\"text-align: right;\">\n",
       "      <th></th>\n",
       "      <th>Name</th>\n",
       "      <th>Age</th>\n",
       "      <th>City</th>\n",
       "      <th>Salary</th>\n",
       "    </tr>\n",
       "  </thead>\n",
       "  <tbody>\n",
       "    <tr>\n",
       "      <th>0</th>\n",
       "      <td>Alice</td>\n",
       "      <td>25.0</td>\n",
       "      <td>New York</td>\n",
       "      <td>50000.0</td>\n",
       "    </tr>\n",
       "    <tr>\n",
       "      <th>1</th>\n",
       "      <td>Bob</td>\n",
       "      <td>25.0</td>\n",
       "      <td>Los Angeles</td>\n",
       "      <td>60000.0</td>\n",
       "    </tr>\n",
       "    <tr>\n",
       "      <th>2</th>\n",
       "      <td>Charlie</td>\n",
       "      <td>30.0</td>\n",
       "      <td>Los Angeles</td>\n",
       "      <td>70000.0</td>\n",
       "    </tr>\n",
       "    <tr>\n",
       "      <th>3</th>\n",
       "      <td>David</td>\n",
       "      <td>35.0</td>\n",
       "      <td>Chicago</td>\n",
       "      <td>70000.0</td>\n",
       "    </tr>\n",
       "    <tr>\n",
       "      <th>4</th>\n",
       "      <td>David</td>\n",
       "      <td>40.0</td>\n",
       "      <td>Houston</td>\n",
       "      <td>90000.0</td>\n",
       "    </tr>\n",
       "  </tbody>\n",
       "</table>\n",
       "</div>"
      ],
      "text/plain": [
       "      Name   Age         City   Salary\n",
       "0    Alice  25.0     New York  50000.0\n",
       "1      Bob  25.0  Los Angeles  60000.0\n",
       "2  Charlie  30.0  Los Angeles  70000.0\n",
       "3    David  35.0      Chicago  70000.0\n",
       "4    David  40.0      Houston  90000.0"
      ]
     },
     "execution_count": 12,
     "metadata": {},
     "output_type": "execute_result"
    }
   ],
   "source": [
    "df.fillna(method='pad')"
   ]
  },
  {
   "cell_type": "code",
   "execution_count": 13,
   "id": "4ec9d3b4-6636-4b61-9701-3a2ad22b0541",
   "metadata": {},
   "outputs": [
    {
     "data": {
      "text/html": [
       "<div>\n",
       "<style scoped>\n",
       "    .dataframe tbody tr th:only-of-type {\n",
       "        vertical-align: middle;\n",
       "    }\n",
       "\n",
       "    .dataframe tbody tr th {\n",
       "        vertical-align: top;\n",
       "    }\n",
       "\n",
       "    .dataframe thead th {\n",
       "        text-align: right;\n",
       "    }\n",
       "</style>\n",
       "<table border=\"1\" class=\"dataframe\">\n",
       "  <thead>\n",
       "    <tr style=\"text-align: right;\">\n",
       "      <th></th>\n",
       "      <th>Name</th>\n",
       "      <th>Age</th>\n",
       "      <th>City</th>\n",
       "      <th>Salary</th>\n",
       "    </tr>\n",
       "  </thead>\n",
       "  <tbody>\n",
       "    <tr>\n",
       "      <th>0</th>\n",
       "      <td>Alice</td>\n",
       "      <td>25.0</td>\n",
       "      <td>New York</td>\n",
       "      <td>50000.0</td>\n",
       "    </tr>\n",
       "    <tr>\n",
       "      <th>1</th>\n",
       "      <td>Bob</td>\n",
       "      <td>25.0</td>\n",
       "      <td>Los Angeles</td>\n",
       "      <td>60000.0</td>\n",
       "    </tr>\n",
       "    <tr>\n",
       "      <th>2</th>\n",
       "      <td>Charlie</td>\n",
       "      <td>30.0</td>\n",
       "      <td>Los Angeles</td>\n",
       "      <td>70000.0</td>\n",
       "    </tr>\n",
       "    <tr>\n",
       "      <th>3</th>\n",
       "      <td>David</td>\n",
       "      <td>35.0</td>\n",
       "      <td>Chicago</td>\n",
       "      <td>70000.0</td>\n",
       "    </tr>\n",
       "    <tr>\n",
       "      <th>4</th>\n",
       "      <td>David</td>\n",
       "      <td>40.0</td>\n",
       "      <td>Houston</td>\n",
       "      <td>90000.0</td>\n",
       "    </tr>\n",
       "  </tbody>\n",
       "</table>\n",
       "</div>"
      ],
      "text/plain": [
       "      Name   Age         City   Salary\n",
       "0    Alice  25.0     New York  50000.0\n",
       "1      Bob  25.0  Los Angeles  60000.0\n",
       "2  Charlie  30.0  Los Angeles  70000.0\n",
       "3    David  35.0      Chicago  70000.0\n",
       "4    David  40.0      Houston  90000.0"
      ]
     },
     "execution_count": 13,
     "metadata": {},
     "output_type": "execute_result"
    }
   ],
   "source": [
    "df.ffill()"
   ]
  },
  {
   "cell_type": "markdown",
   "id": "c3638f7d-0539-4247-b0b2-5f032445ef23",
   "metadata": {},
   "source": [
    "#### Interpolate Function"
   ]
  },
  {
   "cell_type": "code",
   "execution_count": null,
   "id": "f2ee6b41-3879-434c-97b0-7cff9b336f9e",
   "metadata": {},
   "outputs": [],
   "source": []
  },
  {
   "cell_type": "markdown",
   "id": "b4b33a73-02e0-4c52-93fb-940e3ff8ed42",
   "metadata": {},
   "source": [
    "#### Drop Values"
   ]
  },
  {
   "cell_type": "markdown",
   "id": "71dc424f-a0ee-4ff9-ad2b-68150e4e6e9b",
   "metadata": {},
   "source": [
    "drop() function can be used to drop columns or indexes from a DataFrame"
   ]
  },
  {
   "cell_type": "code",
   "execution_count": null,
   "id": "ce31a510-1f89-4550-8055-2c6d2318c079",
   "metadata": {},
   "outputs": [],
   "source": []
  }
 ],
 "metadata": {
  "kernelspec": {
   "display_name": "Python 3 (ipykernel)",
   "language": "python",
   "name": "python3"
  },
  "language_info": {
   "codemirror_mode": {
    "name": "ipython",
    "version": 3
   },
   "file_extension": ".py",
   "mimetype": "text/x-python",
   "name": "python",
   "nbconvert_exporter": "python",
   "pygments_lexer": "ipython3",
   "version": "3.13.1"
  }
 },
 "nbformat": 4,
 "nbformat_minor": 5
}
