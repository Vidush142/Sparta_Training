{
 "cells": [
  {
   "cell_type": "markdown",
   "id": "ccc94154-4627-4ce8-968d-a9619b54fdd2",
   "metadata": {},
   "source": [
    "# Numpy"
   ]
  },
  {
   "cell_type": "markdown",
   "id": "b6652b2a-2de7-4883-9bcd-a1a141829d38",
   "metadata": {},
   "source": [
    "Numpy is a library which provides support for large, homogeneous, multi-dimensional arrays and matrices. "
   ]
  },
  {
   "cell_type": "code",
   "execution_count": 1,
   "id": "189a18d9-383c-4e8b-ba21-2d9e173facfe",
   "metadata": {},
   "outputs": [],
   "source": [
    "# importing numpy library\n",
    "import numpy as np"
   ]
  },
  {
   "cell_type": "markdown",
   "id": "de928796-f078-43e2-9cdb-6bd0d10262c7",
   "metadata": {},
   "source": [
    "# Creating Arrays in Numpy"
   ]
  },
  {
   "cell_type": "markdown",
   "id": "2c22f738-806e-4923-bb65-ec64353f790c",
   "metadata": {},
   "source": [
    "### Creating an array from a list"
   ]
  },
  {
   "cell_type": "code",
   "execution_count": 2,
   "id": "1e07922c-3036-4531-883a-6a8ad0a3de0c",
   "metadata": {},
   "outputs": [
    {
     "data": {
      "text/plain": [
       "[10, 20, 30]"
      ]
     },
     "execution_count": 2,
     "metadata": {},
     "output_type": "execute_result"
    }
   ],
   "source": [
    "list1 = [10,20,30]\n",
    "list1"
   ]
  },
  {
   "cell_type": "code",
   "execution_count": 3,
   "id": "c4b0c266-b97e-4ac8-bab4-5971f9896f85",
   "metadata": {},
   "outputs": [
    {
     "data": {
      "text/plain": [
       "array([10, 20, 30])"
      ]
     },
     "execution_count": 3,
     "metadata": {},
     "output_type": "execute_result"
    }
   ],
   "source": [
    "arr1 = np.array(list1)\n",
    "arr1"
   ]
  },
  {
   "cell_type": "code",
   "execution_count": 4,
   "id": "f3bb204a-fec4-4567-af42-68f9cbce1a7b",
   "metadata": {},
   "outputs": [
    {
     "data": {
      "text/plain": [
       "numpy.ndarray"
      ]
     },
     "execution_count": 4,
     "metadata": {},
     "output_type": "execute_result"
    }
   ],
   "source": [
    "type(arr1)"
   ]
  },
  {
   "cell_type": "markdown",
   "id": "14f32052-f26c-47a0-8dcc-8394df4ee211",
   "metadata": {},
   "source": [
    "### Using arange to create an array\n",
    "\n",
    "The difference between array and arrange is thaat array takes in a list and turns it into an array, whereas arange creates an array from a range of numbers."
   ]
  },
  {
   "cell_type": "code",
   "execution_count": 5,
   "id": "5f78b5f9-87f4-4885-a460-604bea25b0a3",
   "metadata": {},
   "outputs": [
    {
     "data": {
      "text/plain": [
       "array([10, 11, 12, 13, 14, 15, 16, 17, 18, 19])"
      ]
     },
     "execution_count": 5,
     "metadata": {},
     "output_type": "execute_result"
    }
   ],
   "source": [
    "arr2 = np.arange(10,20,1) # (Start, Stop, Step-Size)\n",
    "arr2"
   ]
  },
  {
   "cell_type": "markdown",
   "id": "997755f0-f83f-4f7a-af0a-91d0f8ac5f0c",
   "metadata": {},
   "source": [
    "## Multi-dimensional arrays\n",
    "\n",
    "### Combining two list - Two-dimensional arrays\n",
    "\n",
    "When we combine arrays together, we can add dimensions. Combining two arrays gives us a 2D array.\n",
    "\n",
    "This creates a matrix for us which we can perform matrix operations."
   ]
  },
  {
   "cell_type": "code",
   "execution_count": 6,
   "id": "97287359-b95a-4cf5-a74a-bd9628e17a1f",
   "metadata": {},
   "outputs": [
    {
     "data": {
      "text/plain": [
       "array([[10, 20, 30],\n",
       "       [40, 50, 60]])"
      ]
     },
     "execution_count": 6,
     "metadata": {},
     "output_type": "execute_result"
    }
   ],
   "source": [
    "# Let's create a new list to join onto the first list\n",
    "list2 = [40,50,60]\n",
    "\n",
    "# Join the lists\n",
    "list3 = [list1, list2]\n",
    "\n",
    "# Create an array out of the joined lists\n",
    "arr3 = np.array(list3)\n",
    "arr3"
   ]
  },
  {
   "cell_type": "code",
   "execution_count": 7,
   "id": "257c9164-abcd-4fee-a12a-5afb5c6380e3",
   "metadata": {},
   "outputs": [
    {
     "data": {
      "text/plain": [
       "(2, 3)"
      ]
     },
     "execution_count": 7,
     "metadata": {},
     "output_type": "execute_result"
    }
   ],
   "source": [
    "arr3.shape"
   ]
  },
  {
   "cell_type": "markdown",
   "id": "6b161973-ca2d-4acf-a354-a669ad20cc8c",
   "metadata": {},
   "source": [
    "### Three-dimensional arrays"
   ]
  },
  {
   "cell_type": "code",
   "execution_count": 8,
   "id": "07743bee-021e-4776-a064-695ab73e1a13",
   "metadata": {},
   "outputs": [
    {
     "data": {
      "text/plain": [
       "array([[[1, 2, 3],\n",
       "        [3, 4, 5]],\n",
       "\n",
       "       [[5, 6, 7],\n",
       "        [7, 8, 9]]])"
      ]
     },
     "execution_count": 8,
     "metadata": {},
     "output_type": "execute_result"
    }
   ],
   "source": [
    "arr3dim = np.array([[[1,2,3],[3,4,5]],[[5,6,7],[7,8,9]]])\n",
    "arr3dim"
   ]
  },
  {
   "cell_type": "code",
   "execution_count": 9,
   "id": "58bcd679-1b0d-45b9-9217-894bb6b9750e",
   "metadata": {},
   "outputs": [
    {
     "data": {
      "text/plain": [
       "(2, 2, 3)"
      ]
     },
     "execution_count": 9,
     "metadata": {},
     "output_type": "execute_result"
    }
   ],
   "source": [
    "arr3dim.shape"
   ]
  },
  {
   "cell_type": "markdown",
   "id": "9a7f35bb-6ee8-45d5-a4ed-4222ce723719",
   "metadata": {},
   "source": [
    "## Using Arrays and Scalars\n",
    "\n",
    "Numpy arrays allow us to perform matrix operations."
   ]
  },
  {
   "cell_type": "code",
   "execution_count": 10,
   "id": "a612c2f0-ad95-46ef-9792-9ea9bb97abb5",
   "metadata": {},
   "outputs": [
    {
     "data": {
      "text/plain": [
       "array([[[ 3,  6,  9],\n",
       "        [ 9, 12, 15]],\n",
       "\n",
       "       [[15, 18, 21],\n",
       "        [21, 24, 27]]])"
      ]
     },
     "execution_count": 10,
     "metadata": {},
     "output_type": "execute_result"
    }
   ],
   "source": [
    "# For eample, we can use simple multiplication\n",
    "arr3dim * 3"
   ]
  },
  {
   "cell_type": "code",
   "execution_count": 11,
   "id": "9e7291f7-f9c7-4d92-9562-d29af6dc74b3",
   "metadata": {},
   "outputs": [
    {
     "data": {
      "text/plain": [
       "[10, 20, 30, 10, 20, 30, 10, 20, 30]"
      ]
     },
     "execution_count": 11,
     "metadata": {},
     "output_type": "execute_result"
    }
   ],
   "source": [
    "# How is this different than trying to do:\n",
    "list1 * 3"
   ]
  },
  {
   "cell_type": "code",
   "execution_count": 12,
   "id": "0c20a3a3-b982-4732-ad66-708809a62295",
   "metadata": {},
   "outputs": [
    {
     "data": {
      "text/plain": [
       "array([ 400, 1000, 1800])"
      ]
     },
     "execution_count": 12,
     "metadata": {},
     "output_type": "execute_result"
    }
   ],
   "source": [
    "# We can actually multiply an array with another array\n",
    "\n",
    "# Create a new array with the same size as arr1\n",
    "\n",
    "arr11 = np.array(list2)\n",
    "\n",
    "arr1 * arr11"
   ]
  },
  {
   "cell_type": "markdown",
   "id": "64d61c12-b48a-44a3-a601-f6582dcfcf63",
   "metadata": {},
   "source": [
    "### Multiply arrays of different shape"
   ]
  },
  {
   "cell_type": "code",
   "execution_count": 13,
   "id": "a76c7ed8-bfe5-4944-875f-f6568340860b",
   "metadata": {},
   "outputs": [
    {
     "ename": "ValueError",
     "evalue": "operands could not be broadcast together with shapes (3,) (10,) ",
     "output_type": "error",
     "traceback": [
      "\u001b[1;31m---------------------------------------------------------------------------\u001b[0m",
      "\u001b[1;31mValueError\u001b[0m                                Traceback (most recent call last)",
      "Cell \u001b[1;32mIn[13], line 1\u001b[0m\n\u001b[1;32m----> 1\u001b[0m \u001b[43marr1\u001b[49m\u001b[43m \u001b[49m\u001b[38;5;241;43m*\u001b[39;49m\u001b[43m \u001b[49m\u001b[43marr2\u001b[49m\n",
      "\u001b[1;31mValueError\u001b[0m: operands could not be broadcast together with shapes (3,) (10,) "
     ]
    }
   ],
   "source": [
    "arr1 * arr2"
   ]
  },
  {
   "cell_type": "markdown",
   "id": "03a81cea-1ff7-4d48-94db-d3a6c434f350",
   "metadata": {},
   "source": [
    "Arrays of different shape cannot be multiplied"
   ]
  },
  {
   "cell_type": "markdown",
   "id": "c04748e5-f3b5-4909-897a-e39941844f14",
   "metadata": {},
   "source": [
    "### Arrays of different dimensions can be multiplied"
   ]
  },
  {
   "cell_type": "code",
   "execution_count": 15,
   "id": "c86818ea-4bfb-49ee-b538-ea45cd5572a1",
   "metadata": {},
   "outputs": [
    {
     "data": {
      "text/plain": [
       "array([[[ 10,  40,  90],\n",
       "        [ 30,  80, 150]],\n",
       "\n",
       "       [[ 50, 120, 210],\n",
       "        [ 70, 160, 270]]])"
      ]
     },
     "execution_count": 15,
     "metadata": {},
     "output_type": "execute_result"
    }
   ],
   "source": [
    "arr1 * arr3dim"
   ]
  },
  {
   "cell_type": "markdown",
   "id": "24e0d491-5763-4797-8042-517e0ed4b442",
   "metadata": {},
   "source": [
    "### Numpy Task 1"
   ]
  },
  {
   "cell_type": "code",
   "execution_count": 16,
   "id": "02aeee0f-d137-4f99-a7d5-3338f724c573",
   "metadata": {},
   "outputs": [],
   "source": [
    "arr_1d = np.arange(10,22,1)"
   ]
  },
  {
   "cell_type": "code",
   "execution_count": 22,
   "id": "e612b9ac-0632-4da1-81a4-c614a28ccc19",
   "metadata": {},
   "outputs": [],
   "source": [
    "arr_2d = np.array([[1,2,3,4], [11,12,13,14], [21,22,23,24]])"
   ]
  },
  {
   "cell_type": "code",
   "execution_count": 18,
   "id": "c45dac79-d43a-4e46-9e20-7d2c6696b7c1",
   "metadata": {},
   "outputs": [],
   "source": [
    "arr_3d = np.array([[[12,13,14,15], [16,17,18,19], [20,21,22,23], [24,25,26,27], [28,29,30,31]],[[1,2,3,4], [5,6,7,8], [9,10,11,12], [13,14,15,16],[17,18,19,20]]])"
   ]
  },
  {
   "cell_type": "code",
   "execution_count": 23,
   "id": "d79bf7e7-4bb1-480c-b209-2fd923a9f4bc",
   "metadata": {},
   "outputs": [
    {
     "data": {
      "text/plain": [
       "(3, 4)"
      ]
     },
     "execution_count": 23,
     "metadata": {},
     "output_type": "execute_result"
    }
   ],
   "source": [
    "arr_2d.shape\n"
   ]
  },
  {
   "cell_type": "markdown",
   "id": "ec9fe555-599e-4a6e-8216-3f093ef84189",
   "metadata": {},
   "source": [
    "### Accessing values inside numpy arrays"
   ]
  },
  {
   "cell_type": "code",
   "execution_count": 25,
   "id": "fb5b5182-978b-472b-a8fa-fcf2411d2f52",
   "metadata": {},
   "outputs": [
    {
     "data": {
      "text/plain": [
       "np.int64(60)"
      ]
     },
     "execution_count": 25,
     "metadata": {},
     "output_type": "execute_result"
    }
   ],
   "source": [
    "arr3[1][2]"
   ]
  },
  {
   "cell_type": "code",
   "execution_count": 26,
   "id": "dc4b1f4a-a1d1-4c5c-b11a-74c149b4f05e",
   "metadata": {},
   "outputs": [
    {
     "data": {
      "text/plain": [
       "np.int64(60)"
      ]
     },
     "execution_count": 26,
     "metadata": {},
     "output_type": "execute_result"
    }
   ],
   "source": [
    "arr3[1,2]"
   ]
  },
  {
   "cell_type": "code",
   "execution_count": 27,
   "id": "c915fcd7-4174-46d6-8480-bcb52af6492a",
   "metadata": {},
   "outputs": [
    {
     "data": {
      "text/plain": [
       "array([40, 50, 60])"
      ]
     },
     "execution_count": 27,
     "metadata": {},
     "output_type": "execute_result"
    }
   ],
   "source": [
    "arr3[1]"
   ]
  },
  {
   "cell_type": "code",
   "execution_count": 28,
   "id": "5e408d42-c292-4462-9180-66e7a38898df",
   "metadata": {},
   "outputs": [
    {
     "data": {
      "text/plain": [
       "array([30, 60])"
      ]
     },
     "execution_count": 28,
     "metadata": {},
     "output_type": "execute_result"
    }
   ],
   "source": [
    "arr3[:, 2]"
   ]
  },
  {
   "cell_type": "markdown",
   "id": "a33df1e3-ae03-4f72-9a1e-1646e95c0d7c",
   "metadata": {},
   "source": [
    "## Statistical functions and arrays\n",
    "\n",
    "There are a number of statistical functins that can nbe used with numpy"
   ]
  },
  {
   "cell_type": "code",
   "execution_count": 29,
   "id": "aa1f953e-78f2-4d6d-a43a-274412e91e43",
   "metadata": {},
   "outputs": [
    {
     "data": {
      "text/plain": [
       "np.int64(210)"
      ]
     },
     "execution_count": 29,
     "metadata": {},
     "output_type": "execute_result"
    }
   ],
   "source": [
    "arr3.sum()"
   ]
  },
  {
   "cell_type": "code",
   "execution_count": 30,
   "id": "fcecab0c-bb78-4529-a877-c04c6189ec87",
   "metadata": {},
   "outputs": [
    {
     "data": {
      "text/plain": [
       "array([50, 70, 90])"
      ]
     },
     "execution_count": 30,
     "metadata": {},
     "output_type": "execute_result"
    }
   ],
   "source": [
    "arr3.sum(0) #sum of columns"
   ]
  },
  {
   "cell_type": "code",
   "execution_count": 31,
   "id": "4e197f54-230b-4f82-8abc-e92bd9d02da6",
   "metadata": {},
   "outputs": [
    {
     "data": {
      "text/plain": [
       "array([ 60, 150])"
      ]
     },
     "execution_count": 31,
     "metadata": {},
     "output_type": "execute_result"
    }
   ],
   "source": [
    "arr3.sum(1) #sum of rows"
   ]
  },
  {
   "cell_type": "code",
   "execution_count": 32,
   "id": "d15a5cf1-9042-4d4e-8ab6-cb8d95037b62",
   "metadata": {},
   "outputs": [
    {
     "data": {
      "text/plain": [
       "np.float64(35.0)"
      ]
     },
     "execution_count": 32,
     "metadata": {},
     "output_type": "execute_result"
    }
   ],
   "source": [
    "arr3.mean()"
   ]
  },
  {
   "cell_type": "code",
   "execution_count": 33,
   "id": "3dbc6241-0810-4ac9-9a1d-e8ccbcf4b24a",
   "metadata": {},
   "outputs": [
    {
     "data": {
      "text/plain": [
       "np.float64(17.07825127659933)"
      ]
     },
     "execution_count": 33,
     "metadata": {},
     "output_type": "execute_result"
    }
   ],
   "source": [
    "arr3.std()"
   ]
  },
  {
   "cell_type": "code",
   "execution_count": 34,
   "id": "2a3dcd76-05e1-4825-a290-506b52307cb7",
   "metadata": {},
   "outputs": [
    {
     "data": {
      "text/plain": [
       "np.float64(291.6666666666667)"
      ]
     },
     "execution_count": 34,
     "metadata": {},
     "output_type": "execute_result"
    }
   ],
   "source": [
    "arr3.var()"
   ]
  },
  {
   "cell_type": "code",
   "execution_count": 35,
   "id": "6bedb854-82fd-4bce-867f-cd23713c385f",
   "metadata": {},
   "outputs": [
    {
     "data": {
      "text/plain": [
       "np.int64(10)"
      ]
     },
     "execution_count": 35,
     "metadata": {},
     "output_type": "execute_result"
    }
   ],
   "source": [
    "arr3.min()"
   ]
  },
  {
   "cell_type": "code",
   "execution_count": 36,
   "id": "3aeab2f0-dbad-46d7-a73b-67b5d583f9cf",
   "metadata": {},
   "outputs": [
    {
     "name": "stdout",
     "output_type": "stream",
     "text": [
      "60\n"
     ]
    }
   ],
   "source": [
    "print(arr3.max())"
   ]
  },
  {
   "cell_type": "markdown",
   "id": "68ead271-fd78-48f8-9ed2-f84c43a951d7",
   "metadata": {},
   "source": [
    "### Loop hrough np arrays"
   ]
  },
  {
   "cell_type": "code",
   "execution_count": 38,
   "id": "7d01ba7f-db1e-48da-8828-c1bafd5dcea0",
   "metadata": {},
   "outputs": [
    {
     "name": "stdout",
     "output_type": "stream",
     "text": [
      "10\n",
      "20\n",
      "30\n"
     ]
    }
   ],
   "source": [
    "for x in arr1:\n",
    "    print(x)"
   ]
  },
  {
   "cell_type": "code",
   "execution_count": 39,
   "id": "0b977f56-87b2-4fba-9148-b07ceec93f91",
   "metadata": {},
   "outputs": [
    {
     "name": "stdout",
     "output_type": "stream",
     "text": [
      "10\n",
      "20\n",
      "30\n",
      "40\n",
      "50\n",
      "60\n"
     ]
    }
   ],
   "source": [
    "for dim in arr3:\n",
    "    for num in dim:\n",
    "        print(num)"
   ]
  },
  {
   "cell_type": "code",
   "execution_count": 40,
   "id": "de998522-5ba6-43df-9c21-4f1121db21d8",
   "metadata": {},
   "outputs": [
    {
     "name": "stdout",
     "output_type": "stream",
     "text": [
      "10\n",
      "20\n",
      "30\n",
      "40\n",
      "50\n",
      "60\n"
     ]
    }
   ],
   "source": [
    "for x in np.nditer(arr3):\n",
    "    print(x)"
   ]
  },
  {
   "cell_type": "markdown",
   "id": "d1d23d3f-152f-475b-b335-2c11868090e9",
   "metadata": {},
   "source": [
    "### Saving and loading in numpy"
   ]
  },
  {
   "cell_type": "code",
   "execution_count": 41,
   "id": "b701de69-311c-4286-8b4c-040783efcb25",
   "metadata": {},
   "outputs": [],
   "source": [
    "# To save an array as a file\n",
    "np.save(\"new\", arr3)"
   ]
  },
  {
   "cell_type": "code",
   "execution_count": 42,
   "id": "0b05bb3e-6695-4e90-8412-ba743388156e",
   "metadata": {},
   "outputs": [
    {
     "data": {
      "text/plain": [
       "array([[10, 20, 30],\n",
       "       [40, 50, 60]])"
      ]
     },
     "execution_count": 42,
     "metadata": {},
     "output_type": "execute_result"
    }
   ],
   "source": [
    "# Load the file\n",
    "np.load(\"new.npy\")"
   ]
  },
  {
   "cell_type": "code",
   "execution_count": 43,
   "id": "67b2e28a-53f0-4589-98a8-500201133004",
   "metadata": {},
   "outputs": [],
   "source": [
    "# Saving as a txt\n",
    "np.savetxt(\"new.txt\", arr3, delimiter=\",\")"
   ]
  },
  {
   "cell_type": "code",
   "execution_count": 44,
   "id": "da929e31-7d9c-4caa-a045-41555c93509c",
   "metadata": {},
   "outputs": [
    {
     "data": {
      "text/plain": [
       "array([[10., 20., 30.],\n",
       "       [40., 50., 60.]])"
      ]
     },
     "execution_count": 44,
     "metadata": {},
     "output_type": "execute_result"
    }
   ],
   "source": [
    "# Loading a txt\n",
    "np.loadtxt(\"new.txt\", delimiter=\",\")"
   ]
  },
  {
   "cell_type": "code",
   "execution_count": null,
   "id": "3111e9de-41ac-4a8a-8296-620f16228ba0",
   "metadata": {},
   "outputs": [],
   "source": []
  }
 ],
 "metadata": {
  "kernelspec": {
   "display_name": "Python 3 (ipykernel)",
   "language": "python",
   "name": "python3"
  },
  "language_info": {
   "codemirror_mode": {
    "name": "ipython",
    "version": 3
   },
   "file_extension": ".py",
   "mimetype": "text/x-python",
   "name": "python",
   "nbconvert_exporter": "python",
   "pygments_lexer": "ipython3",
   "version": "3.13.1"
  }
 },
 "nbformat": 4,
 "nbformat_minor": 5
}
